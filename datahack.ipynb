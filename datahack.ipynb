{
 "cells": [
  {
   "cell_type": "markdown",
   "id": "2c3e627c-ede0-43f7-afdc-1cf8d37ab941",
   "metadata": {},
   "source": [
    "Import Libraries\n"
   ]
  },
  {
   "cell_type": "code",
   "execution_count": 1,
   "id": "54cb7c74-e16e-4e81-a5cc-971e2e70000a",
   "metadata": {},
   "outputs": [],
   "source": [
    "import numpy as np\n",
    "import pandas as pd\n",
    "import matplotlib.pyplot as plt"
   ]
  },
  {
   "cell_type": "code",
   "execution_count": 2,
   "id": "f0e9f416-0a14-497d-af29-ab598a401dfa",
   "metadata": {},
   "outputs": [],
   "source": [
    "import seaborn as sns\n",
    "sns.set()"
   ]
  },
  {
   "cell_type": "code",
   "execution_count": 3,
   "id": "4d883a97-5a53-4908-bb43-52c8ff0a29b7",
   "metadata": {},
   "outputs": [],
   "source": [
    "vaccine=pd.read_csv('training_set_features.csv')"
   ]
  },
  {
   "cell_type": "code",
   "execution_count": 4,
   "id": "07ac7fc2-b876-4b05-b6f6-7108939f98b0",
   "metadata": {},
   "outputs": [],
   "source": [
    "test=pd.read_csv('test_set_features.csv')"
   ]
  },
  {
   "cell_type": "code",
   "execution_count": 5,
   "id": "fc8016fe-bd80-4d39-bd05-df45716adb39",
   "metadata": {},
   "outputs": [
    {
     "data": {
      "text/html": [
       "<div>\n",
       "<style scoped>\n",
       "    .dataframe tbody tr th:only-of-type {\n",
       "        vertical-align: middle;\n",
       "    }\n",
       "\n",
       "    .dataframe tbody tr th {\n",
       "        vertical-align: top;\n",
       "    }\n",
       "\n",
       "    .dataframe thead th {\n",
       "        text-align: right;\n",
       "    }\n",
       "</style>\n",
       "<table border=\"1\" class=\"dataframe\">\n",
       "  <thead>\n",
       "    <tr style=\"text-align: right;\">\n",
       "      <th></th>\n",
       "      <th>respondent_id</th>\n",
       "      <th>xyz_concern</th>\n",
       "      <th>xyz_knowledge</th>\n",
       "      <th>behavioral_antiviral_meds</th>\n",
       "      <th>behavioral_avoidance</th>\n",
       "      <th>behavioral_face_mask</th>\n",
       "      <th>behavioral_wash_hands</th>\n",
       "      <th>behavioral_large_gatherings</th>\n",
       "      <th>behavioral_outside_home</th>\n",
       "      <th>behavioral_touch_face</th>\n",
       "      <th>...</th>\n",
       "      <th>income_poverty</th>\n",
       "      <th>marital_status</th>\n",
       "      <th>rent_or_own</th>\n",
       "      <th>employment_status</th>\n",
       "      <th>hhs_geo_region</th>\n",
       "      <th>census_msa</th>\n",
       "      <th>household_adults</th>\n",
       "      <th>household_children</th>\n",
       "      <th>employment_industry</th>\n",
       "      <th>employment_occupation</th>\n",
       "    </tr>\n",
       "  </thead>\n",
       "  <tbody>\n",
       "    <tr>\n",
       "      <th>0</th>\n",
       "      <td>0</td>\n",
       "      <td>1.0</td>\n",
       "      <td>0.0</td>\n",
       "      <td>0.0</td>\n",
       "      <td>0.0</td>\n",
       "      <td>0.0</td>\n",
       "      <td>0.0</td>\n",
       "      <td>0.0</td>\n",
       "      <td>1.0</td>\n",
       "      <td>1.0</td>\n",
       "      <td>...</td>\n",
       "      <td>Below Poverty</td>\n",
       "      <td>Not Married</td>\n",
       "      <td>Own</td>\n",
       "      <td>Not in Labor Force</td>\n",
       "      <td>oxchjgsf</td>\n",
       "      <td>Non-MSA</td>\n",
       "      <td>0.0</td>\n",
       "      <td>0.0</td>\n",
       "      <td>NaN</td>\n",
       "      <td>NaN</td>\n",
       "    </tr>\n",
       "    <tr>\n",
       "      <th>1</th>\n",
       "      <td>1</td>\n",
       "      <td>3.0</td>\n",
       "      <td>2.0</td>\n",
       "      <td>0.0</td>\n",
       "      <td>1.0</td>\n",
       "      <td>0.0</td>\n",
       "      <td>1.0</td>\n",
       "      <td>0.0</td>\n",
       "      <td>1.0</td>\n",
       "      <td>1.0</td>\n",
       "      <td>...</td>\n",
       "      <td>Below Poverty</td>\n",
       "      <td>Not Married</td>\n",
       "      <td>Rent</td>\n",
       "      <td>Employed</td>\n",
       "      <td>bhuqouqj</td>\n",
       "      <td>MSA, Not Principle  City</td>\n",
       "      <td>0.0</td>\n",
       "      <td>0.0</td>\n",
       "      <td>pxcmvdjn</td>\n",
       "      <td>xgwztkwe</td>\n",
       "    </tr>\n",
       "    <tr>\n",
       "      <th>2</th>\n",
       "      <td>2</td>\n",
       "      <td>1.0</td>\n",
       "      <td>1.0</td>\n",
       "      <td>0.0</td>\n",
       "      <td>1.0</td>\n",
       "      <td>0.0</td>\n",
       "      <td>0.0</td>\n",
       "      <td>0.0</td>\n",
       "      <td>0.0</td>\n",
       "      <td>0.0</td>\n",
       "      <td>...</td>\n",
       "      <td>&lt;= $75,000, Above Poverty</td>\n",
       "      <td>Not Married</td>\n",
       "      <td>Own</td>\n",
       "      <td>Employed</td>\n",
       "      <td>qufhixun</td>\n",
       "      <td>MSA, Not Principle  City</td>\n",
       "      <td>2.0</td>\n",
       "      <td>0.0</td>\n",
       "      <td>rucpziij</td>\n",
       "      <td>xtkaffoo</td>\n",
       "    </tr>\n",
       "    <tr>\n",
       "      <th>3</th>\n",
       "      <td>3</td>\n",
       "      <td>1.0</td>\n",
       "      <td>1.0</td>\n",
       "      <td>0.0</td>\n",
       "      <td>1.0</td>\n",
       "      <td>0.0</td>\n",
       "      <td>1.0</td>\n",
       "      <td>1.0</td>\n",
       "      <td>0.0</td>\n",
       "      <td>0.0</td>\n",
       "      <td>...</td>\n",
       "      <td>Below Poverty</td>\n",
       "      <td>Not Married</td>\n",
       "      <td>Rent</td>\n",
       "      <td>Not in Labor Force</td>\n",
       "      <td>lrircsnp</td>\n",
       "      <td>MSA, Principle City</td>\n",
       "      <td>0.0</td>\n",
       "      <td>0.0</td>\n",
       "      <td>NaN</td>\n",
       "      <td>NaN</td>\n",
       "    </tr>\n",
       "    <tr>\n",
       "      <th>4</th>\n",
       "      <td>4</td>\n",
       "      <td>2.0</td>\n",
       "      <td>1.0</td>\n",
       "      <td>0.0</td>\n",
       "      <td>1.0</td>\n",
       "      <td>0.0</td>\n",
       "      <td>1.0</td>\n",
       "      <td>1.0</td>\n",
       "      <td>0.0</td>\n",
       "      <td>1.0</td>\n",
       "      <td>...</td>\n",
       "      <td>&lt;= $75,000, Above Poverty</td>\n",
       "      <td>Married</td>\n",
       "      <td>Own</td>\n",
       "      <td>Employed</td>\n",
       "      <td>qufhixun</td>\n",
       "      <td>MSA, Not Principle  City</td>\n",
       "      <td>1.0</td>\n",
       "      <td>0.0</td>\n",
       "      <td>wxleyezf</td>\n",
       "      <td>emcorrxb</td>\n",
       "    </tr>\n",
       "  </tbody>\n",
       "</table>\n",
       "<p>5 rows × 36 columns</p>\n",
       "</div>"
      ],
      "text/plain": [
       "   respondent_id  xyz_concern  xyz_knowledge  behavioral_antiviral_meds  \\\n",
       "0              0          1.0            0.0                        0.0   \n",
       "1              1          3.0            2.0                        0.0   \n",
       "2              2          1.0            1.0                        0.0   \n",
       "3              3          1.0            1.0                        0.0   \n",
       "4              4          2.0            1.0                        0.0   \n",
       "\n",
       "   behavioral_avoidance  behavioral_face_mask  behavioral_wash_hands  \\\n",
       "0                   0.0                   0.0                    0.0   \n",
       "1                   1.0                   0.0                    1.0   \n",
       "2                   1.0                   0.0                    0.0   \n",
       "3                   1.0                   0.0                    1.0   \n",
       "4                   1.0                   0.0                    1.0   \n",
       "\n",
       "   behavioral_large_gatherings  behavioral_outside_home  \\\n",
       "0                          0.0                      1.0   \n",
       "1                          0.0                      1.0   \n",
       "2                          0.0                      0.0   \n",
       "3                          1.0                      0.0   \n",
       "4                          1.0                      0.0   \n",
       "\n",
       "   behavioral_touch_face  ...             income_poverty  marital_status  \\\n",
       "0                    1.0  ...              Below Poverty     Not Married   \n",
       "1                    1.0  ...              Below Poverty     Not Married   \n",
       "2                    0.0  ...  <= $75,000, Above Poverty     Not Married   \n",
       "3                    0.0  ...              Below Poverty     Not Married   \n",
       "4                    1.0  ...  <= $75,000, Above Poverty         Married   \n",
       "\n",
       "   rent_or_own   employment_status  hhs_geo_region                census_msa  \\\n",
       "0          Own  Not in Labor Force        oxchjgsf                   Non-MSA   \n",
       "1         Rent            Employed        bhuqouqj  MSA, Not Principle  City   \n",
       "2          Own            Employed        qufhixun  MSA, Not Principle  City   \n",
       "3         Rent  Not in Labor Force        lrircsnp       MSA, Principle City   \n",
       "4          Own            Employed        qufhixun  MSA, Not Principle  City   \n",
       "\n",
       "   household_adults  household_children  employment_industry  \\\n",
       "0               0.0                 0.0                  NaN   \n",
       "1               0.0                 0.0             pxcmvdjn   \n",
       "2               2.0                 0.0             rucpziij   \n",
       "3               0.0                 0.0                  NaN   \n",
       "4               1.0                 0.0             wxleyezf   \n",
       "\n",
       "   employment_occupation  \n",
       "0                    NaN  \n",
       "1               xgwztkwe  \n",
       "2               xtkaffoo  \n",
       "3                    NaN  \n",
       "4               emcorrxb  \n",
       "\n",
       "[5 rows x 36 columns]"
      ]
     },
     "execution_count": 5,
     "metadata": {},
     "output_type": "execute_result"
    }
   ],
   "source": [
    "vaccine.head()"
   ]
  },
  {
   "cell_type": "code",
   "execution_count": 6,
   "id": "ab7d9098-a09b-4960-b23b-3ad9f9cf2e33",
   "metadata": {},
   "outputs": [
    {
     "data": {
      "text/plain": [
       "<Axes: >"
      ]
     },
     "execution_count": 6,
     "metadata": {},
     "output_type": "execute_result"
    },
    {
     "data": {
      "image/png": "[encoded data removed]",
      "text/plain": [
       "<Figure size 640x480 with 1 Axes>"
      ]
     },
     "metadata": {},
     "output_type": "display_data"
    }
   ],
   "source": [
    "sns.heatmap(vaccine.isnull(),yticklabels=False,cbar=False,cmap='viridis')"
   ]
  },
  {
   "cell_type": "code",
   "execution_count": 7,
   "id": "ef9622e7-b9fe-4c10-b3d8-d3bc6e2d2604",
   "metadata": {},
   "outputs": [
    {
     "data": {
      "text/plain": [
       "respondent_id                      0\n",
       "xyz_concern                       92\n",
       "xyz_knowledge                    116\n",
       "behavioral_antiviral_meds         71\n",
       "behavioral_avoidance             208\n",
       "behavioral_face_mask              19\n",
       "behavioral_wash_hands             42\n",
       "behavioral_large_gatherings       87\n",
       "behavioral_outside_home           82\n",
       "behavioral_touch_face            128\n",
       "doctor_recc_xyz                 2160\n",
       "doctor_recc_seasonal            2160\n",
       "chronic_med_condition            971\n",
       "child_under_6_months             820\n",
       "health_worker                    804\n",
       "health_insurance               12274\n",
       "opinion_xyz_vacc_effective       391\n",
       "opinion_xyz_risk                 388\n",
       "opinion_xyz_sick_from_vacc       395\n",
       "opinion_seas_vacc_effective      462\n",
       "opinion_seas_risk                514\n",
       "opinion_seas_sick_from_vacc      537\n",
       "age_group                          0\n",
       "education                       1407\n",
       "race                               0\n",
       "sex                                0\n",
       "income_poverty                  4423\n",
       "marital_status                  1408\n",
       "rent_or_own                     2042\n",
       "employment_status               1463\n",
       "hhs_geo_region                     0\n",
       "census_msa                         0\n",
       "household_adults                 249\n",
       "household_children               249\n",
       "employment_industry            13330\n",
       "employment_occupation          13470\n",
       "dtype: int64"
      ]
     },
     "execution_count": 7,
     "metadata": {},
     "output_type": "execute_result"
    }
   ],
   "source": [
    "vaccine.isnull().sum()"
   ]
  },
  {
   "cell_type": "code",
   "execution_count": 8,
   "id": "2d9c30c6-d2b7-4727-8e65-bfe1b78925df",
   "metadata": {},
   "outputs": [
    {
     "data": {
      "text/plain": [
       "respondent_id                    int64\n",
       "xyz_concern                    float64\n",
       "xyz_knowledge                  float64\n",
       "behavioral_antiviral_meds      float64\n",
       "behavioral_avoidance           float64\n",
       "behavioral_face_mask           float64\n",
       "behavioral_wash_hands          float64\n",
       "behavioral_large_gatherings    float64\n",
       "behavioral_outside_home        float64\n",
       "behavioral_touch_face          float64\n",
       "doctor_recc_xyz                float64\n",
       "doctor_recc_seasonal           float64\n",
       "chronic_med_condition          float64\n",
       "child_under_6_months           float64\n",
       "health_worker                  float64\n",
       "health_insurance               float64\n",
       "opinion_xyz_vacc_effective     float64\n",
       "opinion_xyz_risk               float64\n",
       "opinion_xyz_sick_from_vacc     float64\n",
       "opinion_seas_vacc_effective    float64\n",
       "opinion_seas_risk              float64\n",
       "opinion_seas_sick_from_vacc    float64\n",
       "age_group                       object\n",
       "education                       object\n",
       "race                            object\n",
       "sex                             object\n",
       "income_poverty                  object\n",
       "marital_status                  object\n",
       "rent_or_own                     object\n",
       "employment_status               object\n",
       "hhs_geo_region                  object\n",
       "census_msa                      object\n",
       "household_adults               float64\n",
       "household_children             float64\n",
       "employment_industry             object\n",
       "employment_occupation           object\n",
       "dtype: object"
      ]
     },
     "execution_count": 8,
     "metadata": {},
     "output_type": "execute_result"
    }
   ],
   "source": [
    "vaccine.dtypes"
   ]
  },
  {
   "cell_type": "code",
   "execution_count": 9,
   "id": "af04e348-75ac-4783-891e-75ae915bb5ef",
   "metadata": {},
   "outputs": [],
   "source": [
    "vaccine.drop('employment_occupation',axis=1,inplace=True)"
   ]
  },
  {
   "cell_type": "code",
   "execution_count": 10,
   "id": "ede2ebf2-e68f-4e38-af20-e5a3d8cf0bd1",
   "metadata": {},
   "outputs": [],
   "source": [
    "test.drop('employment_occupation',axis=1,inplace=True)"
   ]
  },
  {
   "cell_type": "code",
   "execution_count": 11,
   "id": "0b015f90-c450-40b5-91b0-c1e88b52c6f1",
   "metadata": {},
   "outputs": [
    {
     "data": {
      "text/html": [
       "<div>\n",
       "<style scoped>\n",
       "    .dataframe tbody tr th:only-of-type {\n",
       "        vertical-align: middle;\n",
       "    }\n",
       "\n",
       "    .dataframe tbody tr th {\n",
       "        vertical-align: top;\n",
       "    }\n",
       "\n",
       "    .dataframe thead th {\n",
       "        text-align: right;\n",
       "    }\n",
       "</style>\n",
       "<table border=\"1\" class=\"dataframe\">\n",
       "  <thead>\n",
       "    <tr style=\"text-align: right;\">\n",
       "      <th></th>\n",
       "      <th>respondent_id</th>\n",
       "      <th>xyz_concern</th>\n",
       "      <th>xyz_knowledge</th>\n",
       "      <th>behavioral_antiviral_meds</th>\n",
       "      <th>behavioral_avoidance</th>\n",
       "      <th>behavioral_face_mask</th>\n",
       "      <th>behavioral_wash_hands</th>\n",
       "      <th>behavioral_large_gatherings</th>\n",
       "      <th>behavioral_outside_home</th>\n",
       "      <th>behavioral_touch_face</th>\n",
       "      <th>...</th>\n",
       "      <th>sex</th>\n",
       "      <th>income_poverty</th>\n",
       "      <th>marital_status</th>\n",
       "      <th>rent_or_own</th>\n",
       "      <th>employment_status</th>\n",
       "      <th>hhs_geo_region</th>\n",
       "      <th>census_msa</th>\n",
       "      <th>household_adults</th>\n",
       "      <th>household_children</th>\n",
       "      <th>employment_industry</th>\n",
       "    </tr>\n",
       "  </thead>\n",
       "  <tbody>\n",
       "    <tr>\n",
       "      <th>0</th>\n",
       "      <td>0</td>\n",
       "      <td>1.0</td>\n",
       "      <td>0.0</td>\n",
       "      <td>0.0</td>\n",
       "      <td>0.0</td>\n",
       "      <td>0.0</td>\n",
       "      <td>0.0</td>\n",
       "      <td>0.0</td>\n",
       "      <td>1.0</td>\n",
       "      <td>1.0</td>\n",
       "      <td>...</td>\n",
       "      <td>Female</td>\n",
       "      <td>Below Poverty</td>\n",
       "      <td>Not Married</td>\n",
       "      <td>Own</td>\n",
       "      <td>Not in Labor Force</td>\n",
       "      <td>oxchjgsf</td>\n",
       "      <td>Non-MSA</td>\n",
       "      <td>0.0</td>\n",
       "      <td>0.0</td>\n",
       "      <td>NaN</td>\n",
       "    </tr>\n",
       "    <tr>\n",
       "      <th>1</th>\n",
       "      <td>1</td>\n",
       "      <td>3.0</td>\n",
       "      <td>2.0</td>\n",
       "      <td>0.0</td>\n",
       "      <td>1.0</td>\n",
       "      <td>0.0</td>\n",
       "      <td>1.0</td>\n",
       "      <td>0.0</td>\n",
       "      <td>1.0</td>\n",
       "      <td>1.0</td>\n",
       "      <td>...</td>\n",
       "      <td>Male</td>\n",
       "      <td>Below Poverty</td>\n",
       "      <td>Not Married</td>\n",
       "      <td>Rent</td>\n",
       "      <td>Employed</td>\n",
       "      <td>bhuqouqj</td>\n",
       "      <td>MSA, Not Principle  City</td>\n",
       "      <td>0.0</td>\n",
       "      <td>0.0</td>\n",
       "      <td>pxcmvdjn</td>\n",
       "    </tr>\n",
       "    <tr>\n",
       "      <th>2</th>\n",
       "      <td>2</td>\n",
       "      <td>1.0</td>\n",
       "      <td>1.0</td>\n",
       "      <td>0.0</td>\n",
       "      <td>1.0</td>\n",
       "      <td>0.0</td>\n",
       "      <td>0.0</td>\n",
       "      <td>0.0</td>\n",
       "      <td>0.0</td>\n",
       "      <td>0.0</td>\n",
       "      <td>...</td>\n",
       "      <td>Male</td>\n",
       "      <td>&lt;= $75,000, Above Poverty</td>\n",
       "      <td>Not Married</td>\n",
       "      <td>Own</td>\n",
       "      <td>Employed</td>\n",
       "      <td>qufhixun</td>\n",
       "      <td>MSA, Not Principle  City</td>\n",
       "      <td>2.0</td>\n",
       "      <td>0.0</td>\n",
       "      <td>rucpziij</td>\n",
       "    </tr>\n",
       "    <tr>\n",
       "      <th>3</th>\n",
       "      <td>3</td>\n",
       "      <td>1.0</td>\n",
       "      <td>1.0</td>\n",
       "      <td>0.0</td>\n",
       "      <td>1.0</td>\n",
       "      <td>0.0</td>\n",
       "      <td>1.0</td>\n",
       "      <td>1.0</td>\n",
       "      <td>0.0</td>\n",
       "      <td>0.0</td>\n",
       "      <td>...</td>\n",
       "      <td>Female</td>\n",
       "      <td>Below Poverty</td>\n",
       "      <td>Not Married</td>\n",
       "      <td>Rent</td>\n",
       "      <td>Not in Labor Force</td>\n",
       "      <td>lrircsnp</td>\n",
       "      <td>MSA, Principle City</td>\n",
       "      <td>0.0</td>\n",
       "      <td>0.0</td>\n",
       "      <td>NaN</td>\n",
       "    </tr>\n",
       "    <tr>\n",
       "      <th>4</th>\n",
       "      <td>4</td>\n",
       "      <td>2.0</td>\n",
       "      <td>1.0</td>\n",
       "      <td>0.0</td>\n",
       "      <td>1.0</td>\n",
       "      <td>0.0</td>\n",
       "      <td>1.0</td>\n",
       "      <td>1.0</td>\n",
       "      <td>0.0</td>\n",
       "      <td>1.0</td>\n",
       "      <td>...</td>\n",
       "      <td>Female</td>\n",
       "      <td>&lt;= $75,000, Above Poverty</td>\n",
       "      <td>Married</td>\n",
       "      <td>Own</td>\n",
       "      <td>Employed</td>\n",
       "      <td>qufhixun</td>\n",
       "      <td>MSA, Not Principle  City</td>\n",
       "      <td>1.0</td>\n",
       "      <td>0.0</td>\n",
       "      <td>wxleyezf</td>\n",
       "    </tr>\n",
       "  </tbody>\n",
       "</table>\n",
       "<p>5 rows × 35 columns</p>\n",
       "</div>"
      ],
      "text/plain": [
       "   respondent_id  xyz_concern  xyz_knowledge  behavioral_antiviral_meds  \\\n",
       "0              0          1.0            0.0                        0.0   \n",
       "1              1          3.0            2.0                        0.0   \n",
       "2              2          1.0            1.0                        0.0   \n",
       "3              3          1.0            1.0                        0.0   \n",
       "4              4          2.0            1.0                        0.0   \n",
       "\n",
       "   behavioral_avoidance  behavioral_face_mask  behavioral_wash_hands  \\\n",
       "0                   0.0                   0.0                    0.0   \n",
       "1                   1.0                   0.0                    1.0   \n",
       "2                   1.0                   0.0                    0.0   \n",
       "3                   1.0                   0.0                    1.0   \n",
       "4                   1.0                   0.0                    1.0   \n",
       "\n",
       "   behavioral_large_gatherings  behavioral_outside_home  \\\n",
       "0                          0.0                      1.0   \n",
       "1                          0.0                      1.0   \n",
       "2                          0.0                      0.0   \n",
       "3                          1.0                      0.0   \n",
       "4                          1.0                      0.0   \n",
       "\n",
       "   behavioral_touch_face  ...     sex             income_poverty  \\\n",
       "0                    1.0  ...  Female              Below Poverty   \n",
       "1                    1.0  ...    Male              Below Poverty   \n",
       "2                    0.0  ...    Male  <= $75,000, Above Poverty   \n",
       "3                    0.0  ...  Female              Below Poverty   \n",
       "4                    1.0  ...  Female  <= $75,000, Above Poverty   \n",
       "\n",
       "   marital_status  rent_or_own   employment_status  hhs_geo_region  \\\n",
       "0     Not Married          Own  Not in Labor Force        oxchjgsf   \n",
       "1     Not Married         Rent            Employed        bhuqouqj   \n",
       "2     Not Married          Own            Employed        qufhixun   \n",
       "3     Not Married         Rent  Not in Labor Force        lrircsnp   \n",
       "4         Married          Own            Employed        qufhixun   \n",
       "\n",
       "                 census_msa  household_adults  household_children  \\\n",
       "0                   Non-MSA               0.0                 0.0   \n",
       "1  MSA, Not Principle  City               0.0                 0.0   \n",
       "2  MSA, Not Principle  City               2.0                 0.0   \n",
       "3       MSA, Principle City               0.0                 0.0   \n",
       "4  MSA, Not Principle  City               1.0                 0.0   \n",
       "\n",
       "   employment_industry  \n",
       "0                  NaN  \n",
       "1             pxcmvdjn  \n",
       "2             rucpziij  \n",
       "3                  NaN  \n",
       "4             wxleyezf  \n",
       "\n",
       "[5 rows x 35 columns]"
      ]
     },
     "execution_count": 11,
     "metadata": {},
     "output_type": "execute_result"
    }
   ],
   "source": [
    "vaccine.head()"
   ]
  },
  {
   "cell_type": "code",
   "execution_count": 12,
   "id": "bbdd7410-4a86-41b5-891d-34a18108e842",
   "metadata": {},
   "outputs": [],
   "source": [
    "vaccine.drop('employment_industry',axis=1,inplace=True)"
   ]
  },
  {
   "cell_type": "code",
   "execution_count": 13,
   "id": "4269a9dd-3017-4463-b826-bcd691cbf16d",
   "metadata": {},
   "outputs": [],
   "source": [
    "test.drop('employment_industry',axis=1,inplace=True)"
   ]
  },
  {
   "cell_type": "code",
   "execution_count": 14,
   "id": "556fa10e-076d-47c8-876c-93f2ee989e9c",
   "metadata": {},
   "outputs": [
    {
     "data": {
      "text/html": [
       "<div>\n",
       "<style scoped>\n",
       "    .dataframe tbody tr th:only-of-type {\n",
       "        vertical-align: middle;\n",
       "    }\n",
       "\n",
       "    .dataframe tbody tr th {\n",
       "        vertical-align: top;\n",
       "    }\n",
       "\n",
       "    .dataframe thead th {\n",
       "        text-align: right;\n",
       "    }\n",
       "</style>\n",
       "<table border=\"1\" class=\"dataframe\">\n",
       "  <thead>\n",
       "    <tr style=\"text-align: right;\">\n",
       "      <th></th>\n",
       "      <th>respondent_id</th>\n",
       "      <th>xyz_concern</th>\n",
       "      <th>xyz_knowledge</th>\n",
       "      <th>behavioral_antiviral_meds</th>\n",
       "      <th>behavioral_avoidance</th>\n",
       "      <th>behavioral_face_mask</th>\n",
       "      <th>behavioral_wash_hands</th>\n",
       "      <th>behavioral_large_gatherings</th>\n",
       "      <th>behavioral_outside_home</th>\n",
       "      <th>behavioral_touch_face</th>\n",
       "      <th>...</th>\n",
       "      <th>race</th>\n",
       "      <th>sex</th>\n",
       "      <th>income_poverty</th>\n",
       "      <th>marital_status</th>\n",
       "      <th>rent_or_own</th>\n",
       "      <th>employment_status</th>\n",
       "      <th>hhs_geo_region</th>\n",
       "      <th>census_msa</th>\n",
       "      <th>household_adults</th>\n",
       "      <th>household_children</th>\n",
       "    </tr>\n",
       "  </thead>\n",
       "  <tbody>\n",
       "    <tr>\n",
       "      <th>0</th>\n",
       "      <td>0</td>\n",
       "      <td>1.0</td>\n",
       "      <td>0.0</td>\n",
       "      <td>0.0</td>\n",
       "      <td>0.0</td>\n",
       "      <td>0.0</td>\n",
       "      <td>0.0</td>\n",
       "      <td>0.0</td>\n",
       "      <td>1.0</td>\n",
       "      <td>1.0</td>\n",
       "      <td>...</td>\n",
       "      <td>White</td>\n",
       "      <td>Female</td>\n",
       "      <td>Below Poverty</td>\n",
       "      <td>Not Married</td>\n",
       "      <td>Own</td>\n",
       "      <td>Not in Labor Force</td>\n",
       "      <td>oxchjgsf</td>\n",
       "      <td>Non-MSA</td>\n",
       "      <td>0.0</td>\n",
       "      <td>0.0</td>\n",
       "    </tr>\n",
       "  </tbody>\n",
       "</table>\n",
       "<p>1 rows × 34 columns</p>\n",
       "</div>"
      ],
      "text/plain": [
       "   respondent_id  xyz_concern  xyz_knowledge  behavioral_antiviral_meds  \\\n",
       "0              0          1.0            0.0                        0.0   \n",
       "\n",
       "   behavioral_avoidance  behavioral_face_mask  behavioral_wash_hands  \\\n",
       "0                   0.0                   0.0                    0.0   \n",
       "\n",
       "   behavioral_large_gatherings  behavioral_outside_home  \\\n",
       "0                          0.0                      1.0   \n",
       "\n",
       "   behavioral_touch_face  ...   race     sex  income_poverty  marital_status  \\\n",
       "0                    1.0  ...  White  Female   Below Poverty     Not Married   \n",
       "\n",
       "   rent_or_own   employment_status  hhs_geo_region  census_msa  \\\n",
       "0          Own  Not in Labor Force        oxchjgsf     Non-MSA   \n",
       "\n",
       "   household_adults  household_children  \n",
       "0               0.0                 0.0  \n",
       "\n",
       "[1 rows x 34 columns]"
      ]
     },
     "execution_count": 14,
     "metadata": {},
     "output_type": "execute_result"
    }
   ],
   "source": [
    "vaccine.head(1)"
   ]
  },
  {
   "cell_type": "code",
   "execution_count": 15,
   "id": "1c7c411a-8602-4881-9ef1-68c2ff914fd6",
   "metadata": {},
   "outputs": [],
   "source": [
    "vaccine['health_insurance']=vaccine['health_insurance'].fillna(vaccine.health_insurance.mean())"
   ]
  },
  {
   "cell_type": "code",
   "execution_count": 16,
   "id": "2daef6d1-1142-4cd8-9469-4ee70c843177",
   "metadata": {},
   "outputs": [],
   "source": [
    "test['health_insurance']=test['health_insurance'].fillna(test.health_insurance.mean())"
   ]
  },
  {
   "cell_type": "code",
   "execution_count": 17,
   "id": "253303bd-d89e-43c5-b866-d0ab4c5ef1db",
   "metadata": {},
   "outputs": [],
   "source": [
    "colszero=['chronic_med_condition',\n",
    "'child_under_6_months',\n",
    "'health_worker',                  \n",
    "'health_insurance']"
   ]
  },
  {
   "cell_type": "code",
   "execution_count": 18,
   "id": "4710f41b-e7d4-4e09-b732-3245c68a8919",
   "metadata": {},
   "outputs": [],
   "source": [
    "vaccine[colszero]=vaccine[colszero].fillna(0)"
   ]
  },
  {
   "cell_type": "code",
   "execution_count": 19,
   "id": "69d6cc16-ac91-47ae-9b5f-be421a1cb19c",
   "metadata": {},
   "outputs": [],
   "source": [
    "test[colszero]=test[colszero].fillna(0)"
   ]
  },
  {
   "cell_type": "code",
   "execution_count": 20,
   "id": "18502427-7593-4c46-8e39-0b64a46d8273",
   "metadata": {},
   "outputs": [
    {
     "data": {
      "text/plain": [
       "respondent_id                     0\n",
       "xyz_concern                      92\n",
       "xyz_knowledge                   116\n",
       "behavioral_antiviral_meds        71\n",
       "behavioral_avoidance            208\n",
       "behavioral_face_mask             19\n",
       "behavioral_wash_hands            42\n",
       "behavioral_large_gatherings      87\n",
       "behavioral_outside_home          82\n",
       "behavioral_touch_face           128\n",
       "doctor_recc_xyz                2160\n",
       "doctor_recc_seasonal           2160\n",
       "chronic_med_condition             0\n",
       "child_under_6_months              0\n",
       "health_worker                     0\n",
       "health_insurance                  0\n",
       "opinion_xyz_vacc_effective      391\n",
       "opinion_xyz_risk                388\n",
       "opinion_xyz_sick_from_vacc      395\n",
       "opinion_seas_vacc_effective     462\n",
       "opinion_seas_risk               514\n",
       "opinion_seas_sick_from_vacc     537\n",
       "age_group                         0\n",
       "education                      1407\n",
       "race                              0\n",
       "sex                               0\n",
       "income_poverty                 4423\n",
       "marital_status                 1408\n",
       "rent_or_own                    2042\n",
       "employment_status              1463\n",
       "hhs_geo_region                    0\n",
       "census_msa                        0\n",
       "household_adults                249\n",
       "household_children              249\n",
       "dtype: int64"
      ]
     },
     "execution_count": 20,
     "metadata": {},
     "output_type": "execute_result"
    }
   ],
   "source": [
    "vaccine.isna().sum()"
   ]
  },
  {
   "cell_type": "code",
   "execution_count": 21,
   "id": "07528e30-bafe-400a-9f88-7608360ff676",
   "metadata": {},
   "outputs": [
    {
     "data": {
      "text/plain": [
       "2.0"
      ]
     },
     "execution_count": 21,
     "metadata": {},
     "output_type": "execute_result"
    }
   ],
   "source": [
    "mode_val=vaccine['xyz_concern'].mode()[0]\n",
    "mode_val"
   ]
  },
  {
   "cell_type": "code",
   "execution_count": 22,
   "id": "91ca0c64-13da-496e-94a8-11c59494a8f5",
   "metadata": {},
   "outputs": [],
   "source": [
    "vaccine['xyz_concern']=vaccine['xyz_concern'].fillna(mode_val).infer_objects(copy=False)"
   ]
  },
  {
   "cell_type": "code",
   "execution_count": 23,
   "id": "de4e4739-7342-45bf-85a2-20325bce32a0",
   "metadata": {},
   "outputs": [],
   "source": [
    "test['xyz_concern']=test['xyz_concern'].fillna(mode_val).infer_objects(copy=False)"
   ]
  },
  {
   "cell_type": "code",
   "execution_count": 24,
   "id": "52d25dde-8059-45a1-b013-e4ad9bd9cd44",
   "metadata": {},
   "outputs": [
    {
     "data": {
      "text/plain": [
       "0"
      ]
     },
     "execution_count": 24,
     "metadata": {},
     "output_type": "execute_result"
    }
   ],
   "source": [
    "vaccine['xyz_concern'].isna().sum()"
   ]
  },
  {
   "cell_type": "code",
   "execution_count": 25,
   "id": "0df1bfd4-27b8-4caa-83aa-3717c629d4a3",
   "metadata": {},
   "outputs": [],
   "source": [
    "mode_filling=['xyz_knowledge','behavioral_antiviral_meds','behavioral_avoidance','behavioral_face_mask','behavioral_wash_hands','behavioral_large_gatherings','behavioral_outside_home','behavioral_touch_face','doctor_recc_xyz','doctor_recc_seasonal','opinion_xyz_vacc_effective','opinion_xyz_risk','opinion_xyz_sick_from_vacc','opinion_seas_vacc_effective','opinion_seas_risk','opinion_seas_sick_from_vacc']"
   ]
  },
  {
   "cell_type": "code",
   "execution_count": 26,
   "id": "7ec6de03-a581-418b-a65c-793b1e07e705",
   "metadata": {},
   "outputs": [],
   "source": [
    "mode_values=vaccine[mode_filling].mode().iloc[0]"
   ]
  },
  {
   "cell_type": "code",
   "execution_count": 27,
   "id": "41738859-d31c-410e-a9c2-7fcd5ca43abd",
   "metadata": {},
   "outputs": [],
   "source": [
    "vaccine[mode_filling]=vaccine[mode_filling].fillna(mode_values).infer_objects(copy=False)"
   ]
  },
  {
   "cell_type": "code",
   "execution_count": 28,
   "id": "cb5b554a-f384-4ca9-b2e5-28445ee320d4",
   "metadata": {},
   "outputs": [],
   "source": [
    "test[mode_filling]=test[mode_filling].fillna(mode_values).infer_objects(copy=False)"
   ]
  },
  {
   "cell_type": "code",
   "execution_count": 29,
   "id": "a6f4c6b5-0169-4531-8ccd-7a76146df748",
   "metadata": {},
   "outputs": [
    {
     "data": {
      "text/plain": [
       "respondent_id                     0\n",
       "xyz_concern                       0\n",
       "xyz_knowledge                     0\n",
       "behavioral_antiviral_meds         0\n",
       "behavioral_avoidance              0\n",
       "behavioral_face_mask              0\n",
       "behavioral_wash_hands             0\n",
       "behavioral_large_gatherings       0\n",
       "behavioral_outside_home           0\n",
       "behavioral_touch_face             0\n",
       "doctor_recc_xyz                   0\n",
       "doctor_recc_seasonal              0\n",
       "chronic_med_condition             0\n",
       "child_under_6_months              0\n",
       "health_worker                     0\n",
       "health_insurance                  0\n",
       "opinion_xyz_vacc_effective        0\n",
       "opinion_xyz_risk                  0\n",
       "opinion_xyz_sick_from_vacc        0\n",
       "opinion_seas_vacc_effective       0\n",
       "opinion_seas_risk                 0\n",
       "opinion_seas_sick_from_vacc       0\n",
       "age_group                         0\n",
       "education                      1407\n",
       "race                              0\n",
       "sex                               0\n",
       "income_poverty                 4423\n",
       "marital_status                 1408\n",
       "rent_or_own                    2042\n",
       "employment_status              1463\n",
       "hhs_geo_region                    0\n",
       "census_msa                        0\n",
       "household_adults                249\n",
       "household_children              249\n",
       "dtype: int64"
      ]
     },
     "execution_count": 29,
     "metadata": {},
     "output_type": "execute_result"
    }
   ],
   "source": [
    "vaccine.isna().sum()"
   ]
  },
  {
   "cell_type": "code",
   "execution_count": 30,
   "id": "a4e0012f-24e4-425a-b8d5-bdcfb9a9d358",
   "metadata": {},
   "outputs": [
    {
     "data": {
      "text/plain": [
       "array(['< 12 Years', '12 Years', 'College Graduate', 'Some College', nan],\n",
       "      dtype=object)"
      ]
     },
     "execution_count": 30,
     "metadata": {},
     "output_type": "execute_result"
    }
   ],
   "source": [
    "vaccine.education.unique()"
   ]
  },
  {
   "cell_type": "code",
   "execution_count": 31,
   "id": "17396ce2-58fe-4b4d-bde6-5f293b9a0811",
   "metadata": {},
   "outputs": [],
   "source": [
    "# Fill NA values with a new category 'Unknown'\n",
    "vaccine['education'] = vaccine['education'].fillna('Unknown')\n",
    "\n",
    "\n"
   ]
  },
  {
   "cell_type": "code",
   "execution_count": 32,
   "id": "be474fad-74c2-449f-8658-4e72ad934afc",
   "metadata": {},
   "outputs": [],
   "source": [
    "test['education'] = test['education'].fillna('Unknown')"
   ]
  },
  {
   "cell_type": "code",
   "execution_count": 33,
   "id": "915f5642-c135-4d30-a73a-7ef84d448130",
   "metadata": {},
   "outputs": [
    {
     "data": {
      "text/plain": [
       "0"
      ]
     },
     "execution_count": 33,
     "metadata": {},
     "output_type": "execute_result"
    }
   ],
   "source": [
    "vaccine['education'].isna().sum()"
   ]
  },
  {
   "cell_type": "code",
   "execution_count": 34,
   "id": "23754995-aade-4d90-94db-2d8d13c7ecc6",
   "metadata": {},
   "outputs": [
    {
     "data": {
      "text/plain": [
       "income_poverty\n",
       "<= $75,000, Above Poverty    12777\n",
       "> $75,000                     6810\n",
       "Below Poverty                 2697\n",
       "Name: count, dtype: int64"
      ]
     },
     "execution_count": 34,
     "metadata": {},
     "output_type": "execute_result"
    }
   ],
   "source": [
    "vaccine.income_poverty.value_counts()"
   ]
  },
  {
   "cell_type": "code",
   "execution_count": 35,
   "id": "50557a13-a879-45a7-b245-9f56ff58f0fe",
   "metadata": {},
   "outputs": [],
   "source": [
    "mode=vaccine.income_poverty.mode()[0]"
   ]
  },
  {
   "cell_type": "code",
   "execution_count": 36,
   "id": "10a3580a-bf94-422c-af8d-836c033f775d",
   "metadata": {},
   "outputs": [],
   "source": [
    "vaccine.income_poverty=vaccine.income_poverty.fillna(mode).infer_objects(copy=False)"
   ]
  },
  {
   "cell_type": "code",
   "execution_count": 37,
   "id": "4f93bd72-cafc-4182-b047-800748cc2af6",
   "metadata": {},
   "outputs": [],
   "source": [
    "test.income_poverty=test.income_poverty.fillna(mode).infer_objects(copy=False)"
   ]
  },
  {
   "cell_type": "code",
   "execution_count": 38,
   "id": "6836a754-7ec5-4934-91da-2a8078fcd08f",
   "metadata": {},
   "outputs": [
    {
     "data": {
      "text/plain": [
       "0"
      ]
     },
     "execution_count": 38,
     "metadata": {},
     "output_type": "execute_result"
    }
   ],
   "source": [
    "vaccine.income_poverty.isna().sum()"
   ]
  },
  {
   "cell_type": "code",
   "execution_count": 39,
   "id": "c8a8a4da-3484-41a3-bd00-9960fb4bcc71",
   "metadata": {},
   "outputs": [
    {
     "data": {
      "text/plain": [
       "marital_status\n",
       "Married        13555\n",
       "Not Married    11744\n",
       "Name: count, dtype: int64"
      ]
     },
     "execution_count": 39,
     "metadata": {},
     "output_type": "execute_result"
    }
   ],
   "source": [
    "vaccine.marital_status.value_counts()"
   ]
  },
  {
   "cell_type": "code",
   "execution_count": 40,
   "id": "f90ae8c2-a329-4ee7-a56a-4de3209e3aac",
   "metadata": {},
   "outputs": [
    {
     "data": {
      "text/plain": [
       "1408"
      ]
     },
     "execution_count": 40,
     "metadata": {},
     "output_type": "execute_result"
    }
   ],
   "source": [
    "vaccine.marital_status.isna().sum()"
   ]
  },
  {
   "cell_type": "code",
   "execution_count": 41,
   "id": "57cca8d0-405b-4edf-bb5d-f2265b4ba66c",
   "metadata": {},
   "outputs": [
    {
     "data": {
      "text/plain": [
       "rent_or_own\n",
       "Own     18736\n",
       "Rent     5929\n",
       "Name: count, dtype: int64"
      ]
     },
     "execution_count": 41,
     "metadata": {},
     "output_type": "execute_result"
    }
   ],
   "source": [
    "vaccine.rent_or_own.value_counts()"
   ]
  },
  {
   "cell_type": "code",
   "execution_count": 42,
   "id": "3088ffdb-711f-4567-b5c0-f8e95303c740",
   "metadata": {},
   "outputs": [],
   "source": [
    "# Fill NA values with a new category\n",
    "vaccine['marital_status'] = vaccine['marital_status'].fillna('Married').infer_objects(copy=False)\n",
    "\n",
    "\n"
   ]
  },
  {
   "cell_type": "code",
   "execution_count": 43,
   "id": "dd5ec47d-55d9-44a0-b738-8f3c95d811ed",
   "metadata": {},
   "outputs": [],
   "source": [
    "test['marital_status'] = test['marital_status'].fillna('Married').infer_objects(copy=False)"
   ]
  },
  {
   "cell_type": "code",
   "execution_count": 44,
   "id": "98a4f0fa-9bcb-4b7c-8523-03f2f5ad965f",
   "metadata": {},
   "outputs": [],
   "source": [
    "vaccine.rent_or_own=vaccine.rent_or_own.fillna('Own').infer_objects(copy=False)"
   ]
  },
  {
   "cell_type": "code",
   "execution_count": 45,
   "id": "8a9ec2d4-61c9-40cc-b204-99b85fa4ab78",
   "metadata": {},
   "outputs": [],
   "source": [
    "test.rent_or_own=test.rent_or_own.fillna('Own').infer_objects(copy=False)"
   ]
  },
  {
   "cell_type": "code",
   "execution_count": 46,
   "id": "8ff46af3-1b16-444e-b1c7-6cae713e72a4",
   "metadata": {},
   "outputs": [
    {
     "data": {
      "text/plain": [
       "array(['Not in Labor Force', 'Employed', 'Unemployed', nan], dtype=object)"
      ]
     },
     "execution_count": 46,
     "metadata": {},
     "output_type": "execute_result"
    }
   ],
   "source": [
    "vaccine.employment_status.unique()"
   ]
  },
  {
   "cell_type": "code",
   "execution_count": 47,
   "id": "729dd8ee-c83d-4e3d-9520-9b23f83caf7b",
   "metadata": {},
   "outputs": [],
   "source": [
    "dum=pd.get_dummies(vaccine['employment_status'],drop_first=True)\n",
    "vaccine=pd.concat([vaccine,dum],axis=1)\n",
    "vaccine.drop('employment_status',axis=1,inplace=True)"
   ]
  },
  {
   "cell_type": "code",
   "execution_count": 48,
   "id": "8d51f2fe-1659-4e65-9aec-8469040f9e81",
   "metadata": {},
   "outputs": [],
   "source": [
    "dumt=pd.get_dummies(test['employment_status'],drop_first=True)\n",
    "test=pd.concat([test,dumt],axis=1)\n",
    "test.drop('employment_status',axis=1,inplace=True)"
   ]
  },
  {
   "cell_type": "code",
   "execution_count": 49,
   "id": "1f2e1886-62e2-456a-9a93-28bc3cd1717f",
   "metadata": {},
   "outputs": [
    {
     "data": {
      "text/plain": [
       "household_adults\n",
       "1.0    14474\n",
       "0.0     8056\n",
       "2.0     2803\n",
       "3.0     1125\n",
       "Name: count, dtype: int64"
      ]
     },
     "execution_count": 49,
     "metadata": {},
     "output_type": "execute_result"
    }
   ],
   "source": [
    "vaccine.household_adults.value_counts()"
   ]
  },
  {
   "cell_type": "code",
   "execution_count": 50,
   "id": "6b4439a0-2694-4476-b319-a14bd657b83f",
   "metadata": {},
   "outputs": [],
   "source": [
    "vaccine.household_adults=vaccine.household_adults.fillna(1.0).infer_objects(copy=False)"
   ]
  },
  {
   "cell_type": "code",
   "execution_count": 51,
   "id": "f1bc250c-8916-45c5-8e32-61950ce4f16c",
   "metadata": {},
   "outputs": [],
   "source": [
    "test.household_adults=test.household_adults.fillna(1.0).infer_objects(copy=False)"
   ]
  },
  {
   "cell_type": "code",
   "execution_count": 52,
   "id": "840bc44e-5b08-435a-85f8-4a6d5084afa3",
   "metadata": {},
   "outputs": [
    {
     "data": {
      "text/plain": [
       "household_children\n",
       "0.0    18672\n",
       "1.0     3175\n",
       "2.0     2864\n",
       "3.0     1747\n",
       "Name: count, dtype: int64"
      ]
     },
     "execution_count": 52,
     "metadata": {},
     "output_type": "execute_result"
    }
   ],
   "source": [
    "vaccine.household_children.value_counts()"
   ]
  },
  {
   "cell_type": "code",
   "execution_count": 53,
   "id": "0923f28c-86f5-4a1e-be26-a1c940560de6",
   "metadata": {},
   "outputs": [],
   "source": [
    "vaccine.household_children=vaccine.household_children.fillna(0.0).infer_objects(copy=False)"
   ]
  },
  {
   "cell_type": "code",
   "execution_count": 54,
   "id": "f2102b0c-fba0-4ad8-a3e2-a990f8cfc4ff",
   "metadata": {},
   "outputs": [],
   "source": [
    "test.household_children=test.household_children.fillna(0.0).infer_objects(copy=False)"
   ]
  },
  {
   "cell_type": "code",
   "execution_count": 55,
   "id": "3547d80c-34a8-44ab-bb12-1f40d4a8e444",
   "metadata": {},
   "outputs": [
    {
     "data": {
      "text/plain": [
       "respondent_id                  0\n",
       "xyz_concern                    0\n",
       "xyz_knowledge                  0\n",
       "behavioral_antiviral_meds      0\n",
       "behavioral_avoidance           0\n",
       "behavioral_face_mask           0\n",
       "behavioral_wash_hands          0\n",
       "behavioral_large_gatherings    0\n",
       "behavioral_outside_home        0\n",
       "behavioral_touch_face          0\n",
       "doctor_recc_xyz                0\n",
       "doctor_recc_seasonal           0\n",
       "chronic_med_condition          0\n",
       "child_under_6_months           0\n",
       "health_worker                  0\n",
       "health_insurance               0\n",
       "opinion_xyz_vacc_effective     0\n",
       "opinion_xyz_risk               0\n",
       "opinion_xyz_sick_from_vacc     0\n",
       "opinion_seas_vacc_effective    0\n",
       "opinion_seas_risk              0\n",
       "opinion_seas_sick_from_vacc    0\n",
       "age_group                      0\n",
       "education                      0\n",
       "race                           0\n",
       "sex                            0\n",
       "income_poverty                 0\n",
       "marital_status                 0\n",
       "rent_or_own                    0\n",
       "hhs_geo_region                 0\n",
       "census_msa                     0\n",
       "household_adults               0\n",
       "household_children             0\n",
       "Not in Labor Force             0\n",
       "Unemployed                     0\n",
       "dtype: int64"
      ]
     },
     "execution_count": 55,
     "metadata": {},
     "output_type": "execute_result"
    }
   ],
   "source": [
    "vaccine.isna().sum()"
   ]
  },
  {
   "cell_type": "code",
   "execution_count": 56,
   "id": "36d7d25f-d030-4716-8113-c6e40e3ca712",
   "metadata": {},
   "outputs": [],
   "source": [
    "mp3={'Own':1,'Rent':2}\n",
    "vaccine.rent_or_own=vaccine.rent_or_own.map(mp3)"
   ]
  },
  {
   "cell_type": "code",
   "execution_count": 57,
   "id": "688f89ee-2b5e-4e36-bb65-498fade21f2f",
   "metadata": {},
   "outputs": [],
   "source": [
    "test.rent_or_own=test.rent_or_own.map(mp3)"
   ]
  },
  {
   "cell_type": "code",
   "execution_count": 58,
   "id": "b423998d-3185-434b-8237-980378da4f10",
   "metadata": {},
   "outputs": [],
   "source": [
    "mp2={'Not Married':0,'Married':1}\n",
    "vaccine.marital_status=vaccine.marital_status.map(mp2)"
   ]
  },
  {
   "cell_type": "code",
   "execution_count": 59,
   "id": "c5236708-8d60-405a-8985-98550bc421fb",
   "metadata": {},
   "outputs": [],
   "source": [
    "test.marital_status=test.marital_status.map(mp2)"
   ]
  },
  {
   "cell_type": "code",
   "execution_count": 60,
   "id": "b3c53178-ad4a-4314-bb5a-a096104a0f0c",
   "metadata": {},
   "outputs": [],
   "source": [
    "mp1={'Below Poverty':1, '<= $75,000, Above Poverty':2, '> $75,000':3}\n",
    "vaccine.income_poverty=vaccine.income_poverty.map(mp1)"
   ]
  },
  {
   "cell_type": "code",
   "execution_count": 61,
   "id": "2527f9c6-fa56-48ce-bf85-19921ba481ea",
   "metadata": {},
   "outputs": [],
   "source": [
    "test.income_poverty=test.income_poverty.map(mp1)"
   ]
  },
  {
   "cell_type": "code",
   "execution_count": 62,
   "id": "94c8935b-16aa-4b2d-9ab5-a317c7cefa17",
   "metadata": {},
   "outputs": [],
   "source": [
    "mp={'Unknown':0,'< 12 Years':1, '12 Years':2, 'College Graduate':3, 'Some College':4}\n",
    "vaccine.education=vaccine.education.map(mp)"
   ]
  },
  {
   "cell_type": "code",
   "execution_count": 63,
   "id": "4b8ef838-c2c5-48db-abb4-81539de1cd9b",
   "metadata": {},
   "outputs": [],
   "source": [
    "test.education=test.education.map(mp)"
   ]
  },
  {
   "cell_type": "code",
   "execution_count": 64,
   "id": "fabd7744-03f5-49ad-a325-bcc6aab05add",
   "metadata": {},
   "outputs": [
    {
     "data": {
      "text/plain": [
       "age_group\n",
       "65+ Years        6843\n",
       "55 - 64 Years    5563\n",
       "45 - 54 Years    5238\n",
       "18 - 34 Years    5215\n",
       "35 - 44 Years    3848\n",
       "Name: count, dtype: int64"
      ]
     },
     "execution_count": 64,
     "metadata": {},
     "output_type": "execute_result"
    }
   ],
   "source": [
    "vaccine.age_group.value_counts()"
   ]
  },
  {
   "cell_type": "code",
   "execution_count": 65,
   "id": "63b22e9f-e7fa-417e-a1a0-f1e0f60772b2",
   "metadata": {},
   "outputs": [],
   "source": [
    "map={'18 - 34 Years': 1,'35 - 44 Years': 2,'45 - 54 Years':3,'55 - 64 Years':4,'65+ Years':5}"
   ]
  },
  {
   "cell_type": "code",
   "execution_count": 66,
   "id": "99d19961-fe1b-4601-9f0c-e1810329e71a",
   "metadata": {},
   "outputs": [],
   "source": [
    "vaccine.age_group=vaccine.age_group.map(map)"
   ]
  },
  {
   "cell_type": "code",
   "execution_count": 67,
   "id": "e260f7bc-c0ba-408a-bb5b-5b5050af9f3a",
   "metadata": {},
   "outputs": [],
   "source": [
    "test.age_group=test.age_group.map(map)"
   ]
  },
  {
   "cell_type": "code",
   "execution_count": 68,
   "id": "24e03d22-685c-4234-a61f-7f5f20406b18",
   "metadata": {},
   "outputs": [
    {
     "data": {
      "text/plain": [
       "0    4\n",
       "1    2\n",
       "Name: age_group, dtype: int64"
      ]
     },
     "execution_count": 68,
     "metadata": {},
     "output_type": "execute_result"
    }
   ],
   "source": [
    "vaccine.age_group.head(2)"
   ]
  },
  {
   "cell_type": "code",
   "execution_count": 69,
   "id": "b63e2704-229b-4c82-9fb2-651e0ae6d0fb",
   "metadata": {},
   "outputs": [
    {
     "data": {
      "text/plain": [
       "array(['White', 'Black', 'Other or Multiple', 'Hispanic'], dtype=object)"
      ]
     },
     "execution_count": 69,
     "metadata": {},
     "output_type": "execute_result"
    }
   ],
   "source": [
    "vaccine.race.unique()"
   ]
  },
  {
   "cell_type": "code",
   "execution_count": 70,
   "id": "16982663-b2fe-4f74-ae3b-50af1417005d",
   "metadata": {},
   "outputs": [],
   "source": [
    "ohe1=['White', 'Black', 'Other or Multiple', 'Hispanic']"
   ]
  },
  {
   "cell_type": "code",
   "execution_count": 71,
   "id": "d9a5205f-acc6-4af4-b68b-1814846d5805",
   "metadata": {},
   "outputs": [],
   "source": [
    "for i in ohe1:\n",
    "    vaccine[i]=np.where(vaccine['race']==i,1,0)\n",
    "    test[i]=np.where(test['race']==i,1,0)"
   ]
  },
  {
   "cell_type": "code",
   "execution_count": 72,
   "id": "d2f7ff82-e851-4f7e-ace2-c9a13774f81a",
   "metadata": {},
   "outputs": [
    {
     "data": {
      "text/html": [
       "<div>\n",
       "<style scoped>\n",
       "    .dataframe tbody tr th:only-of-type {\n",
       "        vertical-align: middle;\n",
       "    }\n",
       "\n",
       "    .dataframe tbody tr th {\n",
       "        vertical-align: top;\n",
       "    }\n",
       "\n",
       "    .dataframe thead th {\n",
       "        text-align: right;\n",
       "    }\n",
       "</style>\n",
       "<table border=\"1\" class=\"dataframe\">\n",
       "  <thead>\n",
       "    <tr style=\"text-align: right;\">\n",
       "      <th></th>\n",
       "      <th>respondent_id</th>\n",
       "      <th>xyz_concern</th>\n",
       "      <th>xyz_knowledge</th>\n",
       "      <th>behavioral_antiviral_meds</th>\n",
       "      <th>behavioral_avoidance</th>\n",
       "      <th>behavioral_face_mask</th>\n",
       "      <th>behavioral_wash_hands</th>\n",
       "      <th>behavioral_large_gatherings</th>\n",
       "      <th>behavioral_outside_home</th>\n",
       "      <th>behavioral_touch_face</th>\n",
       "      <th>...</th>\n",
       "      <th>hhs_geo_region</th>\n",
       "      <th>census_msa</th>\n",
       "      <th>household_adults</th>\n",
       "      <th>household_children</th>\n",
       "      <th>Not in Labor Force</th>\n",
       "      <th>Unemployed</th>\n",
       "      <th>White</th>\n",
       "      <th>Black</th>\n",
       "      <th>Other or Multiple</th>\n",
       "      <th>Hispanic</th>\n",
       "    </tr>\n",
       "  </thead>\n",
       "  <tbody>\n",
       "    <tr>\n",
       "      <th>0</th>\n",
       "      <td>0</td>\n",
       "      <td>1.0</td>\n",
       "      <td>0.0</td>\n",
       "      <td>0.0</td>\n",
       "      <td>0.0</td>\n",
       "      <td>0.0</td>\n",
       "      <td>0.0</td>\n",
       "      <td>0.0</td>\n",
       "      <td>1.0</td>\n",
       "      <td>1.0</td>\n",
       "      <td>...</td>\n",
       "      <td>oxchjgsf</td>\n",
       "      <td>Non-MSA</td>\n",
       "      <td>0.0</td>\n",
       "      <td>0.0</td>\n",
       "      <td>True</td>\n",
       "      <td>False</td>\n",
       "      <td>1</td>\n",
       "      <td>0</td>\n",
       "      <td>0</td>\n",
       "      <td>0</td>\n",
       "    </tr>\n",
       "    <tr>\n",
       "      <th>1</th>\n",
       "      <td>1</td>\n",
       "      <td>3.0</td>\n",
       "      <td>2.0</td>\n",
       "      <td>0.0</td>\n",
       "      <td>1.0</td>\n",
       "      <td>0.0</td>\n",
       "      <td>1.0</td>\n",
       "      <td>0.0</td>\n",
       "      <td>1.0</td>\n",
       "      <td>1.0</td>\n",
       "      <td>...</td>\n",
       "      <td>bhuqouqj</td>\n",
       "      <td>MSA, Not Principle  City</td>\n",
       "      <td>0.0</td>\n",
       "      <td>0.0</td>\n",
       "      <td>False</td>\n",
       "      <td>False</td>\n",
       "      <td>1</td>\n",
       "      <td>0</td>\n",
       "      <td>0</td>\n",
       "      <td>0</td>\n",
       "    </tr>\n",
       "    <tr>\n",
       "      <th>2</th>\n",
       "      <td>2</td>\n",
       "      <td>1.0</td>\n",
       "      <td>1.0</td>\n",
       "      <td>0.0</td>\n",
       "      <td>1.0</td>\n",
       "      <td>0.0</td>\n",
       "      <td>0.0</td>\n",
       "      <td>0.0</td>\n",
       "      <td>0.0</td>\n",
       "      <td>0.0</td>\n",
       "      <td>...</td>\n",
       "      <td>qufhixun</td>\n",
       "      <td>MSA, Not Principle  City</td>\n",
       "      <td>2.0</td>\n",
       "      <td>0.0</td>\n",
       "      <td>False</td>\n",
       "      <td>False</td>\n",
       "      <td>1</td>\n",
       "      <td>0</td>\n",
       "      <td>0</td>\n",
       "      <td>0</td>\n",
       "    </tr>\n",
       "    <tr>\n",
       "      <th>3</th>\n",
       "      <td>3</td>\n",
       "      <td>1.0</td>\n",
       "      <td>1.0</td>\n",
       "      <td>0.0</td>\n",
       "      <td>1.0</td>\n",
       "      <td>0.0</td>\n",
       "      <td>1.0</td>\n",
       "      <td>1.0</td>\n",
       "      <td>0.0</td>\n",
       "      <td>0.0</td>\n",
       "      <td>...</td>\n",
       "      <td>lrircsnp</td>\n",
       "      <td>MSA, Principle City</td>\n",
       "      <td>0.0</td>\n",
       "      <td>0.0</td>\n",
       "      <td>True</td>\n",
       "      <td>False</td>\n",
       "      <td>1</td>\n",
       "      <td>0</td>\n",
       "      <td>0</td>\n",
       "      <td>0</td>\n",
       "    </tr>\n",
       "    <tr>\n",
       "      <th>4</th>\n",
       "      <td>4</td>\n",
       "      <td>2.0</td>\n",
       "      <td>1.0</td>\n",
       "      <td>0.0</td>\n",
       "      <td>1.0</td>\n",
       "      <td>0.0</td>\n",
       "      <td>1.0</td>\n",
       "      <td>1.0</td>\n",
       "      <td>0.0</td>\n",
       "      <td>1.0</td>\n",
       "      <td>...</td>\n",
       "      <td>qufhixun</td>\n",
       "      <td>MSA, Not Principle  City</td>\n",
       "      <td>1.0</td>\n",
       "      <td>0.0</td>\n",
       "      <td>False</td>\n",
       "      <td>False</td>\n",
       "      <td>1</td>\n",
       "      <td>0</td>\n",
       "      <td>0</td>\n",
       "      <td>0</td>\n",
       "    </tr>\n",
       "  </tbody>\n",
       "</table>\n",
       "<p>5 rows × 39 columns</p>\n",
       "</div>"
      ],
      "text/plain": [
       "   respondent_id  xyz_concern  xyz_knowledge  behavioral_antiviral_meds  \\\n",
       "0              0          1.0            0.0                        0.0   \n",
       "1              1          3.0            2.0                        0.0   \n",
       "2              2          1.0            1.0                        0.0   \n",
       "3              3          1.0            1.0                        0.0   \n",
       "4              4          2.0            1.0                        0.0   \n",
       "\n",
       "   behavioral_avoidance  behavioral_face_mask  behavioral_wash_hands  \\\n",
       "0                   0.0                   0.0                    0.0   \n",
       "1                   1.0                   0.0                    1.0   \n",
       "2                   1.0                   0.0                    0.0   \n",
       "3                   1.0                   0.0                    1.0   \n",
       "4                   1.0                   0.0                    1.0   \n",
       "\n",
       "   behavioral_large_gatherings  behavioral_outside_home  \\\n",
       "0                          0.0                      1.0   \n",
       "1                          0.0                      1.0   \n",
       "2                          0.0                      0.0   \n",
       "3                          1.0                      0.0   \n",
       "4                          1.0                      0.0   \n",
       "\n",
       "   behavioral_touch_face  ...  hhs_geo_region                census_msa  \\\n",
       "0                    1.0  ...        oxchjgsf                   Non-MSA   \n",
       "1                    1.0  ...        bhuqouqj  MSA, Not Principle  City   \n",
       "2                    0.0  ...        qufhixun  MSA, Not Principle  City   \n",
       "3                    0.0  ...        lrircsnp       MSA, Principle City   \n",
       "4                    1.0  ...        qufhixun  MSA, Not Principle  City   \n",
       "\n",
       "   household_adults  household_children  Not in Labor Force  Unemployed  \\\n",
       "0               0.0                 0.0                True       False   \n",
       "1               0.0                 0.0               False       False   \n",
       "2               2.0                 0.0               False       False   \n",
       "3               0.0                 0.0                True       False   \n",
       "4               1.0                 0.0               False       False   \n",
       "\n",
       "   White  Black  Other or Multiple  Hispanic  \n",
       "0      1      0                  0         0  \n",
       "1      1      0                  0         0  \n",
       "2      1      0                  0         0  \n",
       "3      1      0                  0         0  \n",
       "4      1      0                  0         0  \n",
       "\n",
       "[5 rows x 39 columns]"
      ]
     },
     "execution_count": 72,
     "metadata": {},
     "output_type": "execute_result"
    }
   ],
   "source": [
    "vaccine.head()"
   ]
  },
  {
   "cell_type": "code",
   "execution_count": 73,
   "id": "f2a7c97e-6bef-4a61-a24a-6a2d8a65f182",
   "metadata": {},
   "outputs": [],
   "source": [
    "vaccine.drop('race',axis=1,inplace=True)"
   ]
  },
  {
   "cell_type": "code",
   "execution_count": 74,
   "id": "7119bf87-d577-4009-86fa-68de322d53c3",
   "metadata": {},
   "outputs": [],
   "source": [
    "test.drop('race',axis=1,inplace=True)"
   ]
  },
  {
   "cell_type": "code",
   "execution_count": 75,
   "id": "3ced75dc-c237-4d71-9b91-516682de42a5",
   "metadata": {},
   "outputs": [
    {
     "data": {
      "text/plain": [
       "sex\n",
       "Female    15858\n",
       "Male      10849\n",
       "Name: count, dtype: int64"
      ]
     },
     "execution_count": 75,
     "metadata": {},
     "output_type": "execute_result"
    }
   ],
   "source": [
    "vaccine.sex.value_counts()"
   ]
  },
  {
   "cell_type": "code",
   "execution_count": 76,
   "id": "c0c10654-027c-4dc3-87a1-ac497fd5ebf2",
   "metadata": {},
   "outputs": [],
   "source": [
    "Sex_converted_variable=pd.get_dummies(vaccine['sex'],drop_first=True)"
   ]
  },
  {
   "cell_type": "code",
   "execution_count": 77,
   "id": "2d3b23e8-52ce-4638-bc53-f46571f573d3",
   "metadata": {},
   "outputs": [],
   "source": [
    "conv=pd.get_dummies(test['sex'],drop_first=True)"
   ]
  },
  {
   "cell_type": "code",
   "execution_count": 78,
   "id": "ca4b9936-384c-4f4e-91b1-0d59a6058374",
   "metadata": {},
   "outputs": [
    {
     "data": {
      "text/html": [
       "<div>\n",
       "<style scoped>\n",
       "    .dataframe tbody tr th:only-of-type {\n",
       "        vertical-align: middle;\n",
       "    }\n",
       "\n",
       "    .dataframe tbody tr th {\n",
       "        vertical-align: top;\n",
       "    }\n",
       "\n",
       "    .dataframe thead th {\n",
       "        text-align: right;\n",
       "    }\n",
       "</style>\n",
       "<table border=\"1\" class=\"dataframe\">\n",
       "  <thead>\n",
       "    <tr style=\"text-align: right;\">\n",
       "      <th></th>\n",
       "      <th>Male</th>\n",
       "    </tr>\n",
       "  </thead>\n",
       "  <tbody>\n",
       "    <tr>\n",
       "      <th>0</th>\n",
       "      <td>False</td>\n",
       "    </tr>\n",
       "    <tr>\n",
       "      <th>1</th>\n",
       "      <td>True</td>\n",
       "    </tr>\n",
       "    <tr>\n",
       "      <th>2</th>\n",
       "      <td>True</td>\n",
       "    </tr>\n",
       "    <tr>\n",
       "      <th>3</th>\n",
       "      <td>False</td>\n",
       "    </tr>\n",
       "    <tr>\n",
       "      <th>4</th>\n",
       "      <td>False</td>\n",
       "    </tr>\n",
       "    <tr>\n",
       "      <th>...</th>\n",
       "      <td>...</td>\n",
       "    </tr>\n",
       "    <tr>\n",
       "      <th>26702</th>\n",
       "      <td>False</td>\n",
       "    </tr>\n",
       "    <tr>\n",
       "      <th>26703</th>\n",
       "      <td>True</td>\n",
       "    </tr>\n",
       "    <tr>\n",
       "      <th>26704</th>\n",
       "      <td>False</td>\n",
       "    </tr>\n",
       "    <tr>\n",
       "      <th>26705</th>\n",
       "      <td>False</td>\n",
       "    </tr>\n",
       "    <tr>\n",
       "      <th>26706</th>\n",
       "      <td>True</td>\n",
       "    </tr>\n",
       "  </tbody>\n",
       "</table>\n",
       "<p>26707 rows × 1 columns</p>\n",
       "</div>"
      ],
      "text/plain": [
       "        Male\n",
       "0      False\n",
       "1       True\n",
       "2       True\n",
       "3      False\n",
       "4      False\n",
       "...      ...\n",
       "26702  False\n",
       "26703   True\n",
       "26704  False\n",
       "26705  False\n",
       "26706   True\n",
       "\n",
       "[26707 rows x 1 columns]"
      ]
     },
     "execution_count": 78,
     "metadata": {},
     "output_type": "execute_result"
    }
   ],
   "source": [
    "Sex_converted_variable"
   ]
  },
  {
   "cell_type": "code",
   "execution_count": 79,
   "id": "80813c83-3999-473e-b3e4-66fd7576e40a",
   "metadata": {},
   "outputs": [],
   "source": [
    "vaccine=pd.concat([vaccine,Sex_converted_variable],axis=1)"
   ]
  },
  {
   "cell_type": "code",
   "execution_count": 80,
   "id": "9140435c-98d9-4f59-bcf1-2eaba6ddc092",
   "metadata": {},
   "outputs": [],
   "source": [
    "test=pd.concat([test,conv],axis=1)"
   ]
  },
  {
   "cell_type": "code",
   "execution_count": 81,
   "id": "97febb0a-9242-4943-b6fa-5985d4c7d9c5",
   "metadata": {},
   "outputs": [
    {
     "data": {
      "text/html": [
       "<div>\n",
       "<style scoped>\n",
       "    .dataframe tbody tr th:only-of-type {\n",
       "        vertical-align: middle;\n",
       "    }\n",
       "\n",
       "    .dataframe tbody tr th {\n",
       "        vertical-align: top;\n",
       "    }\n",
       "\n",
       "    .dataframe thead th {\n",
       "        text-align: right;\n",
       "    }\n",
       "</style>\n",
       "<table border=\"1\" class=\"dataframe\">\n",
       "  <thead>\n",
       "    <tr style=\"text-align: right;\">\n",
       "      <th></th>\n",
       "      <th>respondent_id</th>\n",
       "      <th>xyz_concern</th>\n",
       "      <th>xyz_knowledge</th>\n",
       "      <th>behavioral_antiviral_meds</th>\n",
       "      <th>behavioral_avoidance</th>\n",
       "      <th>behavioral_face_mask</th>\n",
       "      <th>behavioral_wash_hands</th>\n",
       "      <th>behavioral_large_gatherings</th>\n",
       "      <th>behavioral_outside_home</th>\n",
       "      <th>behavioral_touch_face</th>\n",
       "      <th>...</th>\n",
       "      <th>census_msa</th>\n",
       "      <th>household_adults</th>\n",
       "      <th>household_children</th>\n",
       "      <th>Not in Labor Force</th>\n",
       "      <th>Unemployed</th>\n",
       "      <th>White</th>\n",
       "      <th>Black</th>\n",
       "      <th>Other or Multiple</th>\n",
       "      <th>Hispanic</th>\n",
       "      <th>Male</th>\n",
       "    </tr>\n",
       "  </thead>\n",
       "  <tbody>\n",
       "    <tr>\n",
       "      <th>0</th>\n",
       "      <td>0</td>\n",
       "      <td>1.0</td>\n",
       "      <td>0.0</td>\n",
       "      <td>0.0</td>\n",
       "      <td>0.0</td>\n",
       "      <td>0.0</td>\n",
       "      <td>0.0</td>\n",
       "      <td>0.0</td>\n",
       "      <td>1.0</td>\n",
       "      <td>1.0</td>\n",
       "      <td>...</td>\n",
       "      <td>Non-MSA</td>\n",
       "      <td>0.0</td>\n",
       "      <td>0.0</td>\n",
       "      <td>True</td>\n",
       "      <td>False</td>\n",
       "      <td>1</td>\n",
       "      <td>0</td>\n",
       "      <td>0</td>\n",
       "      <td>0</td>\n",
       "      <td>False</td>\n",
       "    </tr>\n",
       "    <tr>\n",
       "      <th>1</th>\n",
       "      <td>1</td>\n",
       "      <td>3.0</td>\n",
       "      <td>2.0</td>\n",
       "      <td>0.0</td>\n",
       "      <td>1.0</td>\n",
       "      <td>0.0</td>\n",
       "      <td>1.0</td>\n",
       "      <td>0.0</td>\n",
       "      <td>1.0</td>\n",
       "      <td>1.0</td>\n",
       "      <td>...</td>\n",
       "      <td>MSA, Not Principle  City</td>\n",
       "      <td>0.0</td>\n",
       "      <td>0.0</td>\n",
       "      <td>False</td>\n",
       "      <td>False</td>\n",
       "      <td>1</td>\n",
       "      <td>0</td>\n",
       "      <td>0</td>\n",
       "      <td>0</td>\n",
       "      <td>True</td>\n",
       "    </tr>\n",
       "    <tr>\n",
       "      <th>2</th>\n",
       "      <td>2</td>\n",
       "      <td>1.0</td>\n",
       "      <td>1.0</td>\n",
       "      <td>0.0</td>\n",
       "      <td>1.0</td>\n",
       "      <td>0.0</td>\n",
       "      <td>0.0</td>\n",
       "      <td>0.0</td>\n",
       "      <td>0.0</td>\n",
       "      <td>0.0</td>\n",
       "      <td>...</td>\n",
       "      <td>MSA, Not Principle  City</td>\n",
       "      <td>2.0</td>\n",
       "      <td>0.0</td>\n",
       "      <td>False</td>\n",
       "      <td>False</td>\n",
       "      <td>1</td>\n",
       "      <td>0</td>\n",
       "      <td>0</td>\n",
       "      <td>0</td>\n",
       "      <td>True</td>\n",
       "    </tr>\n",
       "    <tr>\n",
       "      <th>3</th>\n",
       "      <td>3</td>\n",
       "      <td>1.0</td>\n",
       "      <td>1.0</td>\n",
       "      <td>0.0</td>\n",
       "      <td>1.0</td>\n",
       "      <td>0.0</td>\n",
       "      <td>1.0</td>\n",
       "      <td>1.0</td>\n",
       "      <td>0.0</td>\n",
       "      <td>0.0</td>\n",
       "      <td>...</td>\n",
       "      <td>MSA, Principle City</td>\n",
       "      <td>0.0</td>\n",
       "      <td>0.0</td>\n",
       "      <td>True</td>\n",
       "      <td>False</td>\n",
       "      <td>1</td>\n",
       "      <td>0</td>\n",
       "      <td>0</td>\n",
       "      <td>0</td>\n",
       "      <td>False</td>\n",
       "    </tr>\n",
       "    <tr>\n",
       "      <th>4</th>\n",
       "      <td>4</td>\n",
       "      <td>2.0</td>\n",
       "      <td>1.0</td>\n",
       "      <td>0.0</td>\n",
       "      <td>1.0</td>\n",
       "      <td>0.0</td>\n",
       "      <td>1.0</td>\n",
       "      <td>1.0</td>\n",
       "      <td>0.0</td>\n",
       "      <td>1.0</td>\n",
       "      <td>...</td>\n",
       "      <td>MSA, Not Principle  City</td>\n",
       "      <td>1.0</td>\n",
       "      <td>0.0</td>\n",
       "      <td>False</td>\n",
       "      <td>False</td>\n",
       "      <td>1</td>\n",
       "      <td>0</td>\n",
       "      <td>0</td>\n",
       "      <td>0</td>\n",
       "      <td>False</td>\n",
       "    </tr>\n",
       "  </tbody>\n",
       "</table>\n",
       "<p>5 rows × 38 columns</p>\n",
       "</div>"
      ],
      "text/plain": [
       "   respondent_id  xyz_concern  xyz_knowledge  behavioral_antiviral_meds  \\\n",
       "0              0          1.0            0.0                        0.0   \n",
       "1              1          3.0            2.0                        0.0   \n",
       "2              2          1.0            1.0                        0.0   \n",
       "3              3          1.0            1.0                        0.0   \n",
       "4              4          2.0            1.0                        0.0   \n",
       "\n",
       "   behavioral_avoidance  behavioral_face_mask  behavioral_wash_hands  \\\n",
       "0                   0.0                   0.0                    0.0   \n",
       "1                   1.0                   0.0                    1.0   \n",
       "2                   1.0                   0.0                    0.0   \n",
       "3                   1.0                   0.0                    1.0   \n",
       "4                   1.0                   0.0                    1.0   \n",
       "\n",
       "   behavioral_large_gatherings  behavioral_outside_home  \\\n",
       "0                          0.0                      1.0   \n",
       "1                          0.0                      1.0   \n",
       "2                          0.0                      0.0   \n",
       "3                          1.0                      0.0   \n",
       "4                          1.0                      0.0   \n",
       "\n",
       "   behavioral_touch_face  ...                census_msa  household_adults  \\\n",
       "0                    1.0  ...                   Non-MSA               0.0   \n",
       "1                    1.0  ...  MSA, Not Principle  City               0.0   \n",
       "2                    0.0  ...  MSA, Not Principle  City               2.0   \n",
       "3                    0.0  ...       MSA, Principle City               0.0   \n",
       "4                    1.0  ...  MSA, Not Principle  City               1.0   \n",
       "\n",
       "   household_children  Not in Labor Force  Unemployed  White  Black  \\\n",
       "0                 0.0                True       False      1      0   \n",
       "1                 0.0               False       False      1      0   \n",
       "2                 0.0               False       False      1      0   \n",
       "3                 0.0                True       False      1      0   \n",
       "4                 0.0               False       False      1      0   \n",
       "\n",
       "   Other or Multiple  Hispanic   Male  \n",
       "0                  0         0  False  \n",
       "1                  0         0   True  \n",
       "2                  0         0   True  \n",
       "3                  0         0  False  \n",
       "4                  0         0  False  \n",
       "\n",
       "[5 rows x 38 columns]"
      ]
     },
     "execution_count": 81,
     "metadata": {},
     "output_type": "execute_result"
    }
   ],
   "source": [
    "\n",
    "vaccine.drop('sex',axis=1,inplace=True)\n",
    "vaccine.head()"
   ]
  },
  {
   "cell_type": "code",
   "execution_count": 82,
   "id": "9fb16fe7-6198-4db0-972c-c974c822daa0",
   "metadata": {},
   "outputs": [],
   "source": [
    "test.drop('sex',axis=1,inplace=True)"
   ]
  },
  {
   "cell_type": "code",
   "execution_count": 83,
   "id": "4810011b-174a-4427-86d3-34727698808a",
   "metadata": {},
   "outputs": [
    {
     "data": {
      "text/plain": [
       "array(['oxchjgsf', 'bhuqouqj', 'qufhixun', 'lrircsnp', 'atmpeygn',\n",
       "       'lzgpxyit', 'fpwskwrf', 'mlyzmhmf', 'dqpwygqj', 'kbazzjca'],\n",
       "      dtype=object)"
      ]
     },
     "execution_count": 83,
     "metadata": {},
     "output_type": "execute_result"
    }
   ],
   "source": [
    "vaccine.hhs_geo_region.unique()"
   ]
  },
  {
   "cell_type": "code",
   "execution_count": 84,
   "id": "16925342-288b-4063-b337-addad42890f6",
   "metadata": {},
   "outputs": [],
   "source": [
    "geo=['oxchjgsf', 'bhuqouqj', 'qufhixun', 'lrircsnp', 'atmpeygn',\n",
    "       'lzgpxyit', 'fpwskwrf', 'mlyzmhmf', 'dqpwygqj', 'kbazzjca']"
   ]
  },
  {
   "cell_type": "code",
   "execution_count": 85,
   "id": "e3999b90-0d60-4a86-bef4-307282b6298a",
   "metadata": {},
   "outputs": [
    {
     "data": {
      "text/html": [
       "<div>\n",
       "<style scoped>\n",
       "    .dataframe tbody tr th:only-of-type {\n",
       "        vertical-align: middle;\n",
       "    }\n",
       "\n",
       "    .dataframe tbody tr th {\n",
       "        vertical-align: top;\n",
       "    }\n",
       "\n",
       "    .dataframe thead th {\n",
       "        text-align: right;\n",
       "    }\n",
       "</style>\n",
       "<table border=\"1\" class=\"dataframe\">\n",
       "  <thead>\n",
       "    <tr style=\"text-align: right;\">\n",
       "      <th></th>\n",
       "      <th>respondent_id</th>\n",
       "      <th>xyz_concern</th>\n",
       "      <th>xyz_knowledge</th>\n",
       "      <th>behavioral_antiviral_meds</th>\n",
       "      <th>behavioral_avoidance</th>\n",
       "      <th>behavioral_face_mask</th>\n",
       "      <th>behavioral_wash_hands</th>\n",
       "      <th>behavioral_large_gatherings</th>\n",
       "      <th>behavioral_outside_home</th>\n",
       "      <th>behavioral_touch_face</th>\n",
       "      <th>...</th>\n",
       "      <th>oxchjgsf</th>\n",
       "      <th>bhuqouqj</th>\n",
       "      <th>qufhixun</th>\n",
       "      <th>lrircsnp</th>\n",
       "      <th>atmpeygn</th>\n",
       "      <th>lzgpxyit</th>\n",
       "      <th>fpwskwrf</th>\n",
       "      <th>mlyzmhmf</th>\n",
       "      <th>dqpwygqj</th>\n",
       "      <th>kbazzjca</th>\n",
       "    </tr>\n",
       "  </thead>\n",
       "  <tbody>\n",
       "    <tr>\n",
       "      <th>0</th>\n",
       "      <td>0</td>\n",
       "      <td>1.0</td>\n",
       "      <td>0.0</td>\n",
       "      <td>0.0</td>\n",
       "      <td>0.0</td>\n",
       "      <td>0.0</td>\n",
       "      <td>0.0</td>\n",
       "      <td>0.0</td>\n",
       "      <td>1.0</td>\n",
       "      <td>1.0</td>\n",
       "      <td>...</td>\n",
       "      <td>1</td>\n",
       "      <td>0</td>\n",
       "      <td>0</td>\n",
       "      <td>0</td>\n",
       "      <td>0</td>\n",
       "      <td>0</td>\n",
       "      <td>0</td>\n",
       "      <td>0</td>\n",
       "      <td>0</td>\n",
       "      <td>0</td>\n",
       "    </tr>\n",
       "    <tr>\n",
       "      <th>1</th>\n",
       "      <td>1</td>\n",
       "      <td>3.0</td>\n",
       "      <td>2.0</td>\n",
       "      <td>0.0</td>\n",
       "      <td>1.0</td>\n",
       "      <td>0.0</td>\n",
       "      <td>1.0</td>\n",
       "      <td>0.0</td>\n",
       "      <td>1.0</td>\n",
       "      <td>1.0</td>\n",
       "      <td>...</td>\n",
       "      <td>0</td>\n",
       "      <td>1</td>\n",
       "      <td>0</td>\n",
       "      <td>0</td>\n",
       "      <td>0</td>\n",
       "      <td>0</td>\n",
       "      <td>0</td>\n",
       "      <td>0</td>\n",
       "      <td>0</td>\n",
       "      <td>0</td>\n",
       "    </tr>\n",
       "    <tr>\n",
       "      <th>2</th>\n",
       "      <td>2</td>\n",
       "      <td>1.0</td>\n",
       "      <td>1.0</td>\n",
       "      <td>0.0</td>\n",
       "      <td>1.0</td>\n",
       "      <td>0.0</td>\n",
       "      <td>0.0</td>\n",
       "      <td>0.0</td>\n",
       "      <td>0.0</td>\n",
       "      <td>0.0</td>\n",
       "      <td>...</td>\n",
       "      <td>0</td>\n",
       "      <td>0</td>\n",
       "      <td>1</td>\n",
       "      <td>0</td>\n",
       "      <td>0</td>\n",
       "      <td>0</td>\n",
       "      <td>0</td>\n",
       "      <td>0</td>\n",
       "      <td>0</td>\n",
       "      <td>0</td>\n",
       "    </tr>\n",
       "    <tr>\n",
       "      <th>3</th>\n",
       "      <td>3</td>\n",
       "      <td>1.0</td>\n",
       "      <td>1.0</td>\n",
       "      <td>0.0</td>\n",
       "      <td>1.0</td>\n",
       "      <td>0.0</td>\n",
       "      <td>1.0</td>\n",
       "      <td>1.0</td>\n",
       "      <td>0.0</td>\n",
       "      <td>0.0</td>\n",
       "      <td>...</td>\n",
       "      <td>0</td>\n",
       "      <td>0</td>\n",
       "      <td>0</td>\n",
       "      <td>1</td>\n",
       "      <td>0</td>\n",
       "      <td>0</td>\n",
       "      <td>0</td>\n",
       "      <td>0</td>\n",
       "      <td>0</td>\n",
       "      <td>0</td>\n",
       "    </tr>\n",
       "    <tr>\n",
       "      <th>4</th>\n",
       "      <td>4</td>\n",
       "      <td>2.0</td>\n",
       "      <td>1.0</td>\n",
       "      <td>0.0</td>\n",
       "      <td>1.0</td>\n",
       "      <td>0.0</td>\n",
       "      <td>1.0</td>\n",
       "      <td>1.0</td>\n",
       "      <td>0.0</td>\n",
       "      <td>1.0</td>\n",
       "      <td>...</td>\n",
       "      <td>0</td>\n",
       "      <td>0</td>\n",
       "      <td>1</td>\n",
       "      <td>0</td>\n",
       "      <td>0</td>\n",
       "      <td>0</td>\n",
       "      <td>0</td>\n",
       "      <td>0</td>\n",
       "      <td>0</td>\n",
       "      <td>0</td>\n",
       "    </tr>\n",
       "  </tbody>\n",
       "</table>\n",
       "<p>5 rows × 48 columns</p>\n",
       "</div>"
      ],
      "text/plain": [
       "   respondent_id  xyz_concern  xyz_knowledge  behavioral_antiviral_meds  \\\n",
       "0              0          1.0            0.0                        0.0   \n",
       "1              1          3.0            2.0                        0.0   \n",
       "2              2          1.0            1.0                        0.0   \n",
       "3              3          1.0            1.0                        0.0   \n",
       "4              4          2.0            1.0                        0.0   \n",
       "\n",
       "   behavioral_avoidance  behavioral_face_mask  behavioral_wash_hands  \\\n",
       "0                   0.0                   0.0                    0.0   \n",
       "1                   1.0                   0.0                    1.0   \n",
       "2                   1.0                   0.0                    0.0   \n",
       "3                   1.0                   0.0                    1.0   \n",
       "4                   1.0                   0.0                    1.0   \n",
       "\n",
       "   behavioral_large_gatherings  behavioral_outside_home  \\\n",
       "0                          0.0                      1.0   \n",
       "1                          0.0                      1.0   \n",
       "2                          0.0                      0.0   \n",
       "3                          1.0                      0.0   \n",
       "4                          1.0                      0.0   \n",
       "\n",
       "   behavioral_touch_face  ...  oxchjgsf  bhuqouqj  qufhixun  lrircsnp  \\\n",
       "0                    1.0  ...         1         0         0         0   \n",
       "1                    1.0  ...         0         1         0         0   \n",
       "2                    0.0  ...         0         0         1         0   \n",
       "3                    0.0  ...         0         0         0         1   \n",
       "4                    1.0  ...         0         0         1         0   \n",
       "\n",
       "   atmpeygn  lzgpxyit  fpwskwrf  mlyzmhmf  dqpwygqj  kbazzjca  \n",
       "0         0         0         0         0         0         0  \n",
       "1         0         0         0         0         0         0  \n",
       "2         0         0         0         0         0         0  \n",
       "3         0         0         0         0         0         0  \n",
       "4         0         0         0         0         0         0  \n",
       "\n",
       "[5 rows x 48 columns]"
      ]
     },
     "execution_count": 85,
     "metadata": {},
     "output_type": "execute_result"
    }
   ],
   "source": [
    "for category in geo:\n",
    "    vaccine[category]=np.where(vaccine['hhs_geo_region']==category,1,0)\n",
    "vaccine.head()"
   ]
  },
  {
   "cell_type": "code",
   "execution_count": 86,
   "id": "4b0cf376-7d69-4453-9d82-1b719ba53992",
   "metadata": {},
   "outputs": [],
   "source": [
    "for cat in geo:\n",
    "  test[cat]=np.where(test['hhs_geo_region']==cat,1,0)\n"
   ]
  },
  {
   "cell_type": "code",
   "execution_count": 87,
   "id": "6145b9fb-d15f-45c8-bf65-bbf0477aac69",
   "metadata": {},
   "outputs": [],
   "source": [
    "vaccine.drop('hhs_geo_region',axis=1,inplace=True)"
   ]
  },
  {
   "cell_type": "code",
   "execution_count": 88,
   "id": "23a1d60e-ec0f-46b0-9a91-d0676434429e",
   "metadata": {},
   "outputs": [],
   "source": [
    "test.drop('hhs_geo_region',axis=1,inplace=True)"
   ]
  },
  {
   "cell_type": "code",
   "execution_count": 89,
   "id": "b752b06a-2848-49bf-826a-ca0226b96e2d",
   "metadata": {},
   "outputs": [
    {
     "data": {
      "text/plain": [
       "array(['Non-MSA', 'MSA, Not Principle  City', 'MSA, Principle City'],\n",
       "      dtype=object)"
      ]
     },
     "execution_count": 89,
     "metadata": {},
     "output_type": "execute_result"
    }
   ],
   "source": [
    "vaccine.census_msa.unique()"
   ]
  },
  {
   "cell_type": "code",
   "execution_count": 90,
   "id": "cfb623c2-27ee-4d96-b654-f5f14fe2e543",
   "metadata": {},
   "outputs": [],
   "source": [
    "mpk={'Non-MSA':0, 'MSA, Not Principle  City':1, 'MSA, Principle City':2}"
   ]
  },
  {
   "cell_type": "code",
   "execution_count": 91,
   "id": "02699d58-6e0c-40cf-bcb3-7b40c4f516f4",
   "metadata": {},
   "outputs": [],
   "source": [
    "vaccine.census_msa=vaccine.census_msa.map(mpk)"
   ]
  },
  {
   "cell_type": "code",
   "execution_count": 92,
   "id": "42a9f992-7a59-4628-9201-5865a7f38415",
   "metadata": {},
   "outputs": [],
   "source": [
    "test.census_msa=test.census_msa.map(mpk)"
   ]
  },
  {
   "cell_type": "code",
   "execution_count": 93,
   "id": "37e3332c-6e86-4b78-a06b-f95945d937cc",
   "metadata": {},
   "outputs": [
    {
     "data": {
      "text/plain": [
       "respondent_id                    int64\n",
       "xyz_concern                    float64\n",
       "xyz_knowledge                  float64\n",
       "behavioral_antiviral_meds      float64\n",
       "behavioral_avoidance           float64\n",
       "behavioral_face_mask           float64\n",
       "behavioral_wash_hands          float64\n",
       "behavioral_large_gatherings    float64\n",
       "behavioral_outside_home        float64\n",
       "behavioral_touch_face          float64\n",
       "doctor_recc_xyz                float64\n",
       "doctor_recc_seasonal           float64\n",
       "chronic_med_condition          float64\n",
       "child_under_6_months           float64\n",
       "health_worker                  float64\n",
       "health_insurance               float64\n",
       "opinion_xyz_vacc_effective     float64\n",
       "opinion_xyz_risk               float64\n",
       "opinion_xyz_sick_from_vacc     float64\n",
       "opinion_seas_vacc_effective    float64\n",
       "opinion_seas_risk              float64\n",
       "opinion_seas_sick_from_vacc    float64\n",
       "age_group                        int64\n",
       "education                        int64\n",
       "income_poverty                   int64\n",
       "marital_status                   int64\n",
       "rent_or_own                      int64\n",
       "census_msa                       int64\n",
       "household_adults               float64\n",
       "household_children             float64\n",
       "Not in Labor Force                bool\n",
       "Unemployed                        bool\n",
       "White                            int32\n",
       "Black                            int32\n",
       "Other or Multiple                int32\n",
       "Hispanic                         int32\n",
       "Male                              bool\n",
       "oxchjgsf                         int32\n",
       "bhuqouqj                         int32\n",
       "qufhixun                         int32\n",
       "lrircsnp                         int32\n",
       "atmpeygn                         int32\n",
       "lzgpxyit                         int32\n",
       "fpwskwrf                         int32\n",
       "mlyzmhmf                         int32\n",
       "dqpwygqj                         int32\n",
       "kbazzjca                         int32\n",
       "dtype: object"
      ]
     },
     "execution_count": 93,
     "metadata": {},
     "output_type": "execute_result"
    }
   ],
   "source": [
    "vaccine.dtypes"
   ]
  },
  {
   "cell_type": "code",
   "execution_count": 94,
   "id": "7dde8af6-8764-40a0-b870-9d4765ce9232",
   "metadata": {},
   "outputs": [
    {
     "data": {
      "text/plain": [
       "Index(['respondent_id', 'xyz_concern', 'xyz_knowledge',\n",
       "       'behavioral_antiviral_meds', 'behavioral_avoidance',\n",
       "       'behavioral_face_mask', 'behavioral_wash_hands',\n",
       "       'behavioral_large_gatherings', 'behavioral_outside_home',\n",
       "       'behavioral_touch_face', 'doctor_recc_xyz', 'doctor_recc_seasonal',\n",
       "       'chronic_med_condition', 'child_under_6_months', 'health_worker',\n",
       "       'health_insurance', 'opinion_xyz_vacc_effective', 'opinion_xyz_risk',\n",
       "       'opinion_xyz_sick_from_vacc', 'opinion_seas_vacc_effective',\n",
       "       'opinion_seas_risk', 'opinion_seas_sick_from_vacc', 'age_group',\n",
       "       'education', 'income_poverty', 'marital_status', 'rent_or_own',\n",
       "       'census_msa', 'household_adults', 'household_children',\n",
       "       'Not in Labor Force', 'Unemployed', 'White', 'Black',\n",
       "       'Other or Multiple', 'Hispanic', 'Male', 'oxchjgsf', 'bhuqouqj',\n",
       "       'qufhixun', 'lrircsnp', 'atmpeygn', 'lzgpxyit', 'fpwskwrf', 'mlyzmhmf',\n",
       "       'dqpwygqj', 'kbazzjca'],\n",
       "      dtype='object')"
      ]
     },
     "execution_count": 94,
     "metadata": {},
     "output_type": "execute_result"
    }
   ],
   "source": [
    "vaccine.columns"
   ]
  },
  {
   "cell_type": "code",
   "execution_count": 95,
   "id": "b7299ef0-87ea-4124-b18b-b085b68a07e6",
   "metadata": {},
   "outputs": [
    {
     "data": {
      "text/plain": [
       "Index(['respondent_id', 'xyz_concern', 'xyz_knowledge',\n",
       "       'behavioral_antiviral_meds', 'behavioral_avoidance',\n",
       "       'behavioral_face_mask', 'behavioral_wash_hands',\n",
       "       'behavioral_large_gatherings', 'behavioral_outside_home',\n",
       "       'behavioral_touch_face', 'doctor_recc_xyz', 'doctor_recc_seasonal',\n",
       "       'chronic_med_condition', 'child_under_6_months', 'health_worker',\n",
       "       'health_insurance', 'opinion_xyz_vacc_effective', 'opinion_xyz_risk',\n",
       "       'opinion_xyz_sick_from_vacc', 'opinion_seas_vacc_effective',\n",
       "       'opinion_seas_risk', 'opinion_seas_sick_from_vacc', 'age_group',\n",
       "       'education', 'income_poverty', 'marital_status', 'rent_or_own',\n",
       "       'census_msa', 'household_adults', 'household_children',\n",
       "       'Not in Labor Force', 'Unemployed', 'White', 'Black',\n",
       "       'Other or Multiple', 'Hispanic', 'Male', 'oxchjgsf', 'bhuqouqj',\n",
       "       'qufhixun', 'lrircsnp', 'atmpeygn', 'lzgpxyit', 'fpwskwrf', 'mlyzmhmf',\n",
       "       'dqpwygqj', 'kbazzjca'],\n",
       "      dtype='object')"
      ]
     },
     "execution_count": 95,
     "metadata": {},
     "output_type": "execute_result"
    }
   ],
   "source": [
    "test.columns"
   ]
  },
  {
   "cell_type": "code",
   "execution_count": 96,
   "id": "64faa963-d539-4954-bcd3-fe8c3b25366d",
   "metadata": {},
   "outputs": [],
   "source": [
    "from sklearn.preprocessing import MinMaxScaler\n",
    "scaler = MinMaxScaler()"
   ]
  },
  {
   "cell_type": "code",
   "execution_count": 97,
   "id": "6e6eadb3-2cfa-4a10-8824-e3d67dfab8a7",
   "metadata": {},
   "outputs": [],
   "source": [
    "col_names=['xyz_concern','xyz_knowledge','opinion_xyz_vacc_effective','opinion_xyz_risk','opinion_xyz_sick_from_vacc','opinion_seas_vacc_effective','opinion_seas_risk','opinion_seas_sick_from_vacc','age_group','education','income_poverty','marital_status','rent_or_own','census_msa']"
   ]
  },
  {
   "cell_type": "code",
   "execution_count": 98,
   "id": "0f34ba14-c8a3-471b-9753-1af991925b0f",
   "metadata": {},
   "outputs": [],
   "source": [
    "features=vaccine[col_names]"
   ]
  },
  {
   "cell_type": "code",
   "execution_count": 99,
   "id": "96f30e45-0c6c-4460-b8a0-18a2ee9bd18a",
   "metadata": {},
   "outputs": [],
   "source": [
    "vaccine[col_names] = scaler.fit_transform(features.values)"
   ]
  },
  {
   "cell_type": "code",
   "execution_count": 100,
   "id": "2d71cae8-7efa-41d5-80e6-a3b85911039d",
   "metadata": {},
   "outputs": [],
   "source": [
    "test[col_names] = scaler.transform(test[col_names].values)"
   ]
  },
  {
   "cell_type": "code",
   "execution_count": 101,
   "id": "6fa792d4-dce6-438e-b1b7-cce32421f2f8",
   "metadata": {},
   "outputs": [
    {
     "data": {
      "text/html": [
       "<div>\n",
       "<style scoped>\n",
       "    .dataframe tbody tr th:only-of-type {\n",
       "        vertical-align: middle;\n",
       "    }\n",
       "\n",
       "    .dataframe tbody tr th {\n",
       "        vertical-align: top;\n",
       "    }\n",
       "\n",
       "    .dataframe thead th {\n",
       "        text-align: right;\n",
       "    }\n",
       "</style>\n",
       "<table border=\"1\" class=\"dataframe\">\n",
       "  <thead>\n",
       "    <tr style=\"text-align: right;\">\n",
       "      <th></th>\n",
       "      <th>xyz_concern</th>\n",
       "      <th>xyz_knowledge</th>\n",
       "      <th>opinion_xyz_vacc_effective</th>\n",
       "      <th>opinion_xyz_risk</th>\n",
       "      <th>opinion_xyz_sick_from_vacc</th>\n",
       "      <th>opinion_seas_vacc_effective</th>\n",
       "      <th>opinion_seas_risk</th>\n",
       "      <th>opinion_seas_sick_from_vacc</th>\n",
       "      <th>age_group</th>\n",
       "      <th>education</th>\n",
       "      <th>income_poverty</th>\n",
       "      <th>marital_status</th>\n",
       "      <th>rent_or_own</th>\n",
       "      <th>census_msa</th>\n",
       "    </tr>\n",
       "  </thead>\n",
       "  <tbody>\n",
       "    <tr>\n",
       "      <th>0</th>\n",
       "      <td>0.333333</td>\n",
       "      <td>0.0</td>\n",
       "      <td>0.5</td>\n",
       "      <td>0.00</td>\n",
       "      <td>0.25</td>\n",
       "      <td>0.25</td>\n",
       "      <td>0.00</td>\n",
       "      <td>0.25</td>\n",
       "      <td>0.75</td>\n",
       "      <td>0.25</td>\n",
       "      <td>0.0</td>\n",
       "      <td>0.0</td>\n",
       "      <td>0.0</td>\n",
       "      <td>0.0</td>\n",
       "    </tr>\n",
       "    <tr>\n",
       "      <th>1</th>\n",
       "      <td>1.000000</td>\n",
       "      <td>1.0</td>\n",
       "      <td>1.0</td>\n",
       "      <td>0.75</td>\n",
       "      <td>0.75</td>\n",
       "      <td>0.75</td>\n",
       "      <td>0.25</td>\n",
       "      <td>0.75</td>\n",
       "      <td>0.25</td>\n",
       "      <td>0.50</td>\n",
       "      <td>0.0</td>\n",
       "      <td>0.0</td>\n",
       "      <td>1.0</td>\n",
       "      <td>0.5</td>\n",
       "    </tr>\n",
       "    <tr>\n",
       "      <th>2</th>\n",
       "      <td>0.333333</td>\n",
       "      <td>0.5</td>\n",
       "      <td>0.5</td>\n",
       "      <td>0.00</td>\n",
       "      <td>0.00</td>\n",
       "      <td>0.75</td>\n",
       "      <td>0.00</td>\n",
       "      <td>0.25</td>\n",
       "      <td>0.00</td>\n",
       "      <td>0.75</td>\n",
       "      <td>0.5</td>\n",
       "      <td>0.0</td>\n",
       "      <td>0.0</td>\n",
       "      <td>0.5</td>\n",
       "    </tr>\n",
       "    <tr>\n",
       "      <th>3</th>\n",
       "      <td>0.333333</td>\n",
       "      <td>0.5</td>\n",
       "      <td>0.5</td>\n",
       "      <td>0.50</td>\n",
       "      <td>1.00</td>\n",
       "      <td>1.00</td>\n",
       "      <td>0.75</td>\n",
       "      <td>0.00</td>\n",
       "      <td>1.00</td>\n",
       "      <td>0.50</td>\n",
       "      <td>0.0</td>\n",
       "      <td>0.0</td>\n",
       "      <td>1.0</td>\n",
       "      <td>1.0</td>\n",
       "    </tr>\n",
       "    <tr>\n",
       "      <th>4</th>\n",
       "      <td>0.666667</td>\n",
       "      <td>0.5</td>\n",
       "      <td>0.5</td>\n",
       "      <td>0.50</td>\n",
       "      <td>0.25</td>\n",
       "      <td>0.50</td>\n",
       "      <td>0.00</td>\n",
       "      <td>0.75</td>\n",
       "      <td>0.50</td>\n",
       "      <td>1.00</td>\n",
       "      <td>0.5</td>\n",
       "      <td>1.0</td>\n",
       "      <td>0.0</td>\n",
       "      <td>0.5</td>\n",
       "    </tr>\n",
       "  </tbody>\n",
       "</table>\n",
       "</div>"
      ],
      "text/plain": [
       "   xyz_concern  xyz_knowledge  opinion_xyz_vacc_effective  opinion_xyz_risk  \\\n",
       "0     0.333333            0.0                         0.5              0.00   \n",
       "1     1.000000            1.0                         1.0              0.75   \n",
       "2     0.333333            0.5                         0.5              0.00   \n",
       "3     0.333333            0.5                         0.5              0.50   \n",
       "4     0.666667            0.5                         0.5              0.50   \n",
       "\n",
       "   opinion_xyz_sick_from_vacc  opinion_seas_vacc_effective  opinion_seas_risk  \\\n",
       "0                        0.25                         0.25               0.00   \n",
       "1                        0.75                         0.75               0.25   \n",
       "2                        0.00                         0.75               0.00   \n",
       "3                        1.00                         1.00               0.75   \n",
       "4                        0.25                         0.50               0.00   \n",
       "\n",
       "   opinion_seas_sick_from_vacc  age_group  education  income_poverty  \\\n",
       "0                         0.25       0.75       0.25             0.0   \n",
       "1                         0.75       0.25       0.50             0.0   \n",
       "2                         0.25       0.00       0.75             0.5   \n",
       "3                         0.00       1.00       0.50             0.0   \n",
       "4                         0.75       0.50       1.00             0.5   \n",
       "\n",
       "   marital_status  rent_or_own  census_msa  \n",
       "0             0.0          0.0         0.0  \n",
       "1             0.0          1.0         0.5  \n",
       "2             0.0          0.0         0.5  \n",
       "3             0.0          1.0         1.0  \n",
       "4             1.0          0.0         0.5  "
      ]
     },
     "execution_count": 101,
     "metadata": {},
     "output_type": "execute_result"
    }
   ],
   "source": [
    "vaccine[col_names].head()"
   ]
  },
  {
   "cell_type": "code",
   "execution_count": 102,
   "id": "ad106911-269e-48cd-96ce-2293a92c9103",
   "metadata": {},
   "outputs": [
    {
     "data": {
      "text/plain": [
       "respondent_id                  0\n",
       "xyz_concern                    0\n",
       "xyz_knowledge                  0\n",
       "behavioral_antiviral_meds      0\n",
       "behavioral_avoidance           0\n",
       "behavioral_face_mask           0\n",
       "behavioral_wash_hands          0\n",
       "behavioral_large_gatherings    0\n",
       "behavioral_outside_home        0\n",
       "behavioral_touch_face          0\n",
       "doctor_recc_xyz                0\n",
       "doctor_recc_seasonal           0\n",
       "chronic_med_condition          0\n",
       "child_under_6_months           0\n",
       "health_worker                  0\n",
       "health_insurance               0\n",
       "opinion_xyz_vacc_effective     0\n",
       "opinion_xyz_risk               0\n",
       "opinion_xyz_sick_from_vacc     0\n",
       "opinion_seas_vacc_effective    0\n",
       "opinion_seas_risk              0\n",
       "opinion_seas_sick_from_vacc    0\n",
       "age_group                      0\n",
       "education                      0\n",
       "income_poverty                 0\n",
       "marital_status                 0\n",
       "rent_or_own                    0\n",
       "census_msa                     0\n",
       "household_adults               0\n",
       "household_children             0\n",
       "Not in Labor Force             0\n",
       "Unemployed                     0\n",
       "White                          0\n",
       "Black                          0\n",
       "Other or Multiple              0\n",
       "Hispanic                       0\n",
       "Male                           0\n",
       "oxchjgsf                       0\n",
       "bhuqouqj                       0\n",
       "qufhixun                       0\n",
       "lrircsnp                       0\n",
       "atmpeygn                       0\n",
       "lzgpxyit                       0\n",
       "fpwskwrf                       0\n",
       "mlyzmhmf                       0\n",
       "dqpwygqj                       0\n",
       "kbazzjca                       0\n",
       "dtype: int64"
      ]
     },
     "execution_count": 102,
     "metadata": {},
     "output_type": "execute_result"
    }
   ],
   "source": [
    "vaccine.isna().sum()"
   ]
  },
  {
   "cell_type": "code",
   "execution_count": 103,
   "id": "85642cbc-07b0-4197-8f4b-10e1d443035a",
   "metadata": {},
   "outputs": [
    {
     "data": {
      "text/plain": [
       "Index(['respondent_id', 'xyz_concern', 'xyz_knowledge',\n",
       "       'behavioral_antiviral_meds', 'behavioral_avoidance',\n",
       "       'behavioral_face_mask', 'behavioral_wash_hands',\n",
       "       'behavioral_large_gatherings', 'behavioral_outside_home',\n",
       "       'behavioral_touch_face', 'doctor_recc_xyz', 'doctor_recc_seasonal',\n",
       "       'chronic_med_condition', 'child_under_6_months', 'health_worker',\n",
       "       'health_insurance', 'opinion_xyz_vacc_effective', 'opinion_xyz_risk',\n",
       "       'opinion_xyz_sick_from_vacc', 'opinion_seas_vacc_effective',\n",
       "       'opinion_seas_risk', 'opinion_seas_sick_from_vacc', 'age_group',\n",
       "       'education', 'income_poverty', 'marital_status', 'rent_or_own',\n",
       "       'census_msa', 'household_adults', 'household_children',\n",
       "       'Not in Labor Force', 'Unemployed', 'White', 'Black',\n",
       "       'Other or Multiple', 'Hispanic', 'Male', 'oxchjgsf', 'bhuqouqj',\n",
       "       'qufhixun', 'lrircsnp', 'atmpeygn', 'lzgpxyit', 'fpwskwrf', 'mlyzmhmf',\n",
       "       'dqpwygqj', 'kbazzjca'],\n",
       "      dtype='object')"
      ]
     },
     "execution_count": 103,
     "metadata": {},
     "output_type": "execute_result"
    }
   ],
   "source": [
    "vaccine.columns"
   ]
  },
  {
   "cell_type": "code",
   "execution_count": 104,
   "id": "40f20fb4-b88f-461c-9267-4b634be8bdfa",
   "metadata": {},
   "outputs": [
    {
     "data": {
      "text/plain": [
       "respondent_id                  0\n",
       "xyz_concern                    0\n",
       "xyz_knowledge                  0\n",
       "behavioral_antiviral_meds      0\n",
       "behavioral_avoidance           0\n",
       "behavioral_face_mask           0\n",
       "behavioral_wash_hands          0\n",
       "behavioral_large_gatherings    0\n",
       "behavioral_outside_home        0\n",
       "behavioral_touch_face          0\n",
       "doctor_recc_xyz                0\n",
       "doctor_recc_seasonal           0\n",
       "chronic_med_condition          0\n",
       "child_under_6_months           0\n",
       "health_worker                  0\n",
       "health_insurance               0\n",
       "opinion_xyz_vacc_effective     0\n",
       "opinion_xyz_risk               0\n",
       "opinion_xyz_sick_from_vacc     0\n",
       "opinion_seas_vacc_effective    0\n",
       "opinion_seas_risk              0\n",
       "opinion_seas_sick_from_vacc    0\n",
       "age_group                      0\n",
       "education                      0\n",
       "income_poverty                 0\n",
       "marital_status                 0\n",
       "rent_or_own                    0\n",
       "census_msa                     0\n",
       "household_adults               0\n",
       "household_children             0\n",
       "Not in Labor Force             0\n",
       "Unemployed                     0\n",
       "White                          0\n",
       "Black                          0\n",
       "Other or Multiple              0\n",
       "Hispanic                       0\n",
       "Male                           0\n",
       "oxchjgsf                       0\n",
       "bhuqouqj                       0\n",
       "qufhixun                       0\n",
       "lrircsnp                       0\n",
       "atmpeygn                       0\n",
       "lzgpxyit                       0\n",
       "fpwskwrf                       0\n",
       "mlyzmhmf                       0\n",
       "dqpwygqj                       0\n",
       "kbazzjca                       0\n",
       "dtype: int64"
      ]
     },
     "execution_count": 104,
     "metadata": {},
     "output_type": "execute_result"
    }
   ],
   "source": [
    "test.isna().sum()"
   ]
  },
  {
   "cell_type": "code",
   "execution_count": 105,
   "id": "576491af-d6ba-4b9c-a7c3-59836f8733b7",
   "metadata": {},
   "outputs": [
    {
     "data": {
      "text/plain": [
       "respondent_id                    int64\n",
       "xyz_concern                    float64\n",
       "xyz_knowledge                  float64\n",
       "behavioral_antiviral_meds      float64\n",
       "behavioral_avoidance           float64\n",
       "behavioral_face_mask           float64\n",
       "behavioral_wash_hands          float64\n",
       "behavioral_large_gatherings    float64\n",
       "behavioral_outside_home        float64\n",
       "behavioral_touch_face          float64\n",
       "doctor_recc_xyz                float64\n",
       "doctor_recc_seasonal           float64\n",
       "chronic_med_condition          float64\n",
       "child_under_6_months           float64\n",
       "health_worker                  float64\n",
       "health_insurance               float64\n",
       "opinion_xyz_vacc_effective     float64\n",
       "opinion_xyz_risk               float64\n",
       "opinion_xyz_sick_from_vacc     float64\n",
       "opinion_seas_vacc_effective    float64\n",
       "opinion_seas_risk              float64\n",
       "opinion_seas_sick_from_vacc    float64\n",
       "age_group                      float64\n",
       "education                      float64\n",
       "income_poverty                 float64\n",
       "marital_status                 float64\n",
       "rent_or_own                    float64\n",
       "census_msa                     float64\n",
       "household_adults               float64\n",
       "household_children             float64\n",
       "Not in Labor Force                bool\n",
       "Unemployed                        bool\n",
       "White                            int32\n",
       "Black                            int32\n",
       "Other or Multiple                int32\n",
       "Hispanic                         int32\n",
       "Male                              bool\n",
       "oxchjgsf                         int32\n",
       "bhuqouqj                         int32\n",
       "qufhixun                         int32\n",
       "lrircsnp                         int32\n",
       "atmpeygn                         int32\n",
       "lzgpxyit                         int32\n",
       "fpwskwrf                         int32\n",
       "mlyzmhmf                         int32\n",
       "dqpwygqj                         int32\n",
       "kbazzjca                         int32\n",
       "dtype: object"
      ]
     },
     "execution_count": 105,
     "metadata": {},
     "output_type": "execute_result"
    }
   ],
   "source": [
    "test.dtypes"
   ]
  },
  {
   "cell_type": "code",
   "execution_count": 106,
   "id": "92656629-18d2-4d8c-859f-ab3d30545f58",
   "metadata": {},
   "outputs": [
    {
     "data": {
      "text/html": [
       "<div>\n",
       "<style scoped>\n",
       "    .dataframe tbody tr th:only-of-type {\n",
       "        vertical-align: middle;\n",
       "    }\n",
       "\n",
       "    .dataframe tbody tr th {\n",
       "        vertical-align: top;\n",
       "    }\n",
       "\n",
       "    .dataframe thead th {\n",
       "        text-align: right;\n",
       "    }\n",
       "</style>\n",
       "<table border=\"1\" class=\"dataframe\">\n",
       "  <thead>\n",
       "    <tr style=\"text-align: right;\">\n",
       "      <th></th>\n",
       "      <th>respondent_id</th>\n",
       "      <th>xyz_vaccine</th>\n",
       "      <th>seasonal_vaccine</th>\n",
       "    </tr>\n",
       "  </thead>\n",
       "  <tbody>\n",
       "    <tr>\n",
       "      <th>0</th>\n",
       "      <td>0</td>\n",
       "      <td>0</td>\n",
       "      <td>0</td>\n",
       "    </tr>\n",
       "    <tr>\n",
       "      <th>1</th>\n",
       "      <td>1</td>\n",
       "      <td>0</td>\n",
       "      <td>1</td>\n",
       "    </tr>\n",
       "    <tr>\n",
       "      <th>2</th>\n",
       "      <td>2</td>\n",
       "      <td>0</td>\n",
       "      <td>0</td>\n",
       "    </tr>\n",
       "  </tbody>\n",
       "</table>\n",
       "</div>"
      ],
      "text/plain": [
       "   respondent_id  xyz_vaccine  seasonal_vaccine\n",
       "0              0            0                 0\n",
       "1              1            0                 1\n",
       "2              2            0                 0"
      ]
     },
     "execution_count": 106,
     "metadata": {},
     "output_type": "execute_result"
    }
   ],
   "source": [
    "vaccine_label=pd.read_csv('training_set_labels.csv')\n",
    "vaccine_label.head(3)"
   ]
  },
  {
   "cell_type": "code",
   "execution_count": 107,
   "id": "2c7ea61c-1230-43c5-bf05-88d3d2b91d28",
   "metadata": {},
   "outputs": [],
   "source": [
    "from sklearn.datasets import load_digits"
   ]
  },
  {
   "cell_type": "code",
   "execution_count": 108,
   "id": "3eee4987-ec7f-4cc2-a910-5e7876983ffb",
   "metadata": {},
   "outputs": [],
   "source": [
    "from sklearn.model_selection import train_test_split"
   ]
  },
  {
   "cell_type": "code",
   "execution_count": 109,
   "id": "6aff67c3-0c18-4012-9091-e79cde8f24e0",
   "metadata": {},
   "outputs": [],
   "source": [
    "from sklearn.linear_model import LogisticRegression"
   ]
  },
  {
   "cell_type": "code",
   "execution_count": 110,
   "id": "86a3d612-dc49-4506-93e4-a095f13c1894",
   "metadata": {},
   "outputs": [],
   "source": [
    "x_vaccine=vaccine.drop('respondent_id',axis=1)"
   ]
  },
  {
   "cell_type": "code",
   "execution_count": 111,
   "id": "0ee8b7cc-1fae-4c39-967f-1c1966f7d5df",
   "metadata": {},
   "outputs": [],
   "source": [
    "Y_xyz_vaccine=vaccine_label['xyz_vaccine']\n",
    "Y_sea_vaccine=vaccine_label['seasonal_vaccine']"
   ]
  },
  {
   "cell_type": "code",
   "execution_count": 112,
   "id": "582c4285-8a5c-4a20-924b-029f4a92fb57",
   "metadata": {},
   "outputs": [],
   "source": [
    "xyz_reg=LogisticRegression(max_iter=1000)\n",
    "seasonal_reg=LogisticRegression(max_iter=1000)"
   ]
  },
  {
   "cell_type": "code",
   "execution_count": 113,
   "id": "fbbdaeb4-5af0-41ac-ad3b-92e86829c309",
   "metadata": {},
   "outputs": [
    {
     "data": {
      "text/html": [
       "<style>#sk-container-id-1 {color: black;background-color: white;}#sk-container-id-1 pre{padding: 0;}#sk-container-id-1 div.sk-toggleable {background-color: white;}#sk-container-id-1 label.sk-toggleable__label {cursor: pointer;display: block;width: 100%;margin-bottom: 0;padding: 0.3em;box-sizing: border-box;text-align: center;}#sk-container-id-1 label.sk-toggleable__label-arrow:before {content: \"▸\";float: left;margin-right: 0.25em;color: #696969;}#sk-container-id-1 label.sk-toggleable__label-arrow:hover:before {color: black;}#sk-container-id-1 div.sk-estimator:hover label.sk-toggleable__label-arrow:before {color: black;}#sk-container-id-1 div.sk-toggleable__content {max-height: 0;max-width: 0;overflow: hidden;text-align: left;background-color: #f0f8ff;}#sk-container-id-1 div.sk-toggleable__content pre {margin: 0.2em;color: black;border-radius: 0.25em;background-color: #f0f8ff;}#sk-container-id-1 input.sk-toggleable__control:checked~div.sk-toggleable__content {max-height: 200px;max-width: 100%;overflow: auto;}#sk-container-id-1 input.sk-toggleable__control:checked~label.sk-toggleable__label-arrow:before {content: \"▾\";}#sk-container-id-1 div.sk-estimator input.sk-toggleable__control:checked~label.sk-toggleable__label {background-color: #d4ebff;}#sk-container-id-1 div.sk-label input.sk-toggleable__control:checked~label.sk-toggleable__label {background-color: #d4ebff;}#sk-container-id-1 input.sk-hidden--visually {border: 0;clip: rect(1px 1px 1px 1px);clip: rect(1px, 1px, 1px, 1px);height: 1px;margin: -1px;overflow: hidden;padding: 0;position: absolute;width: 1px;}#sk-container-id-1 div.sk-estimator {font-family: monospace;background-color: #f0f8ff;border: 1px dotted black;border-radius: 0.25em;box-sizing: border-box;margin-bottom: 0.5em;}#sk-container-id-1 div.sk-estimator:hover {background-color: #d4ebff;}#sk-container-id-1 div.sk-parallel-item::after {content: \"\";width: 100%;border-bottom: 1px solid gray;flex-grow: 1;}#sk-container-id-1 div.sk-label:hover label.sk-toggleable__label {background-color: #d4ebff;}#sk-container-id-1 div.sk-serial::before {content: \"\";position: absolute;border-left: 1px solid gray;box-sizing: border-box;top: 0;bottom: 0;left: 50%;z-index: 0;}#sk-container-id-1 div.sk-serial {display: flex;flex-direction: column;align-items: center;background-color: white;padding-right: 0.2em;padding-left: 0.2em;position: relative;}#sk-container-id-1 div.sk-item {position: relative;z-index: 1;}#sk-container-id-1 div.sk-parallel {display: flex;align-items: stretch;justify-content: center;background-color: white;position: relative;}#sk-container-id-1 div.sk-item::before, #sk-container-id-1 div.sk-parallel-item::before {content: \"\";position: absolute;border-left: 1px solid gray;box-sizing: border-box;top: 0;bottom: 0;left: 50%;z-index: -1;}#sk-container-id-1 div.sk-parallel-item {display: flex;flex-direction: column;z-index: 1;position: relative;background-color: white;}#sk-container-id-1 div.sk-parallel-item:first-child::after {align-self: flex-end;width: 50%;}#sk-container-id-1 div.sk-parallel-item:last-child::after {align-self: flex-start;width: 50%;}#sk-container-id-1 div.sk-parallel-item:only-child::after {width: 0;}#sk-container-id-1 div.sk-dashed-wrapped {border: 1px dashed gray;margin: 0 0.4em 0.5em 0.4em;box-sizing: border-box;padding-bottom: 0.4em;background-color: white;}#sk-container-id-1 div.sk-label label {font-family: monospace;font-weight: bold;display: inline-block;line-height: 1.2em;}#sk-container-id-1 div.sk-label-container {text-align: center;}#sk-container-id-1 div.sk-container {/* jupyter's `normalize.less` sets `[hidden] { display: none; }` but bootstrap.min.css set `[hidden] { display: none !important; }` so we also need the `!important` here to be able to override the default hidden behavior on the sphinx rendered scikit-learn.org. See: https://github.com/scikit-learn/scikit-learn/issues/21755 */display: inline-block !important;position: relative;}#sk-container-id-1 div.sk-text-repr-fallback {display: none;}</style><div id=\"sk-container-id-1\" class=\"sk-top-container\"><div class=\"sk-text-repr-fallback\"><pre>LogisticRegression(max_iter=1000)</pre><b>In a Jupyter environment, please rerun this cell to show the HTML representation or trust the notebook. <br />On GitHub, the HTML representation is unable to render, please try loading this page with nbviewer.org.</b></div><div class=\"sk-container\" hidden><div class=\"sk-item\"><div class=\"sk-estimator sk-toggleable\"><input class=\"sk-toggleable__control sk-hidden--visually\" id=\"sk-estimator-id-1\" type=\"checkbox\" checked><label for=\"sk-estimator-id-1\" class=\"sk-toggleable__label sk-toggleable__label-arrow\">LogisticRegression</label><div class=\"sk-toggleable__content\"><pre>LogisticRegression(max_iter=1000)</pre></div></div></div></div></div>"
      ],
      "text/plain": [
       "LogisticRegression(max_iter=1000)"
      ]
     },
     "execution_count": 113,
     "metadata": {},
     "output_type": "execute_result"
    }
   ],
   "source": [
    "xyz_reg.fit(x_vaccine,Y_xyz_vaccine)\n",
    "seasonal_reg.fit(x_vaccine,Y_sea_vaccine)"
   ]
  },
  {
   "cell_type": "code",
   "execution_count": 115,
   "id": "215349e0-5b0f-4454-afaf-e5a42fba8b06",
   "metadata": {},
   "outputs": [],
   "source": [
    "x_test=test.drop('respondent_id', axis=1, errors='ignore')\n",
    "Y_xyz_vaccine=xyz_reg.predict_proba(x_test)[:, 1]\n",
    "Y_sea_vaccine=seasonal_reg.predict_proba(x_test)[:, 1]"
   ]
  },
  {
   "cell_type": "code",
   "execution_count": 116,
   "id": "a1374683-8358-4e21-ae97-a5023d80a770",
   "metadata": {},
   "outputs": [],
   "source": [
    "final = pd.DataFrame({\n",
    "    'respondent_id': test['respondent_id'],\n",
    "    'xyz_vaccine_label': Y_xyz_vaccine,\n",
    "    'seasonal_vaccine_label': Y_sea_vaccine\n",
    "})"
   ]
  },
  {
   "cell_type": "code",
   "execution_count": 117,
   "id": "406167f4-94e3-40bf-ac42-cae219e09db8",
   "metadata": {},
   "outputs": [],
   "source": [
    "final.to_csv('output.csv', index=False)"
   ]
  },
  {
   "cell_type": "code",
   "execution_count": 118,
   "id": "8eb7a802-3fc8-4f5b-96e5-8e7adbea04eb",
   "metadata": {},
   "outputs": [],
   "source": [
    "from sklearn.metrics import roc_auc_score"
   ]
  },
  {
   "cell_type": "code",
   "execution_count": 123,
   "id": "06721fd1-ad48-45e9-8b2b-fdbc2556cc50",
   "metadata": {},
   "outputs": [
    {
     "ename": "ValueError",
     "evalue": "continuous format is not supported",
     "output_type": "error",
     "traceback": [
      "\u001b[1;31m---------------------------------------------------------------------------\u001b[0m",
      "\u001b[1;31mValueError\u001b[0m                                Traceback (most recent call last)",
      "Cell \u001b[1;32mIn[123], line 5\u001b[0m\n\u001b[0;32m      2\u001b[0m y_test_seasonal \u001b[38;5;241m=\u001b[39m final[\u001b[38;5;124m'\u001b[39m\u001b[38;5;124mseasonal_vaccine_label\u001b[39m\u001b[38;5;124m'\u001b[39m]  \u001b[38;5;66;03m# True labels for seasonal vaccine\u001b[39;00m\n\u001b[0;32m      4\u001b[0m \u001b[38;5;66;03m# Calculate ROC AUC scores\u001b[39;00m\n\u001b[1;32m----> 5\u001b[0m roc_auc_xyz \u001b[38;5;241m=\u001b[39m roc_auc_score(y_test_xyz, Y_xyz_vaccine)\n\u001b[0;32m      6\u001b[0m roc_auc_seasonal \u001b[38;5;241m=\u001b[39m roc_auc_score(y_test_seasonal, Y_sea_vaccine)\n",
      "File \u001b[1;32mC:\\anaconda\\Lib\\site-packages\\sklearn\\metrics\\_ranking.py:580\u001b[0m, in \u001b[0;36mroc_auc_score\u001b[1;34m(y_true, y_score, average, sample_weight, max_fpr, multi_class, labels)\u001b[0m\n\u001b[0;32m    572\u001b[0m     \u001b[38;5;28;01mreturn\u001b[39;00m _average_binary_score(\n\u001b[0;32m    573\u001b[0m         partial(_binary_roc_auc_score, max_fpr\u001b[38;5;241m=\u001b[39mmax_fpr),\n\u001b[0;32m    574\u001b[0m         y_true,\n\u001b[1;32m   (...)\u001b[0m\n\u001b[0;32m    577\u001b[0m         sample_weight\u001b[38;5;241m=\u001b[39msample_weight,\n\u001b[0;32m    578\u001b[0m     )\n\u001b[0;32m    579\u001b[0m \u001b[38;5;28;01melse\u001b[39;00m:  \u001b[38;5;66;03m# multilabel-indicator\u001b[39;00m\n\u001b[1;32m--> 580\u001b[0m     \u001b[38;5;28;01mreturn\u001b[39;00m _average_binary_score(\n\u001b[0;32m    581\u001b[0m         partial(_binary_roc_auc_score, max_fpr\u001b[38;5;241m=\u001b[39mmax_fpr),\n\u001b[0;32m    582\u001b[0m         y_true,\n\u001b[0;32m    583\u001b[0m         y_score,\n\u001b[0;32m    584\u001b[0m         average,\n\u001b[0;32m    585\u001b[0m         sample_weight\u001b[38;5;241m=\u001b[39msample_weight,\n\u001b[0;32m    586\u001b[0m     )\n",
      "File \u001b[1;32mC:\\anaconda\\Lib\\site-packages\\sklearn\\metrics\\_base.py:72\u001b[0m, in \u001b[0;36m_average_binary_score\u001b[1;34m(binary_metric, y_true, y_score, average, sample_weight)\u001b[0m\n\u001b[0;32m     70\u001b[0m y_type \u001b[38;5;241m=\u001b[39m type_of_target(y_true)\n\u001b[0;32m     71\u001b[0m \u001b[38;5;28;01mif\u001b[39;00m y_type \u001b[38;5;129;01mnot\u001b[39;00m \u001b[38;5;129;01min\u001b[39;00m (\u001b[38;5;124m\"\u001b[39m\u001b[38;5;124mbinary\u001b[39m\u001b[38;5;124m\"\u001b[39m, \u001b[38;5;124m\"\u001b[39m\u001b[38;5;124mmultilabel-indicator\u001b[39m\u001b[38;5;124m\"\u001b[39m):\n\u001b[1;32m---> 72\u001b[0m     \u001b[38;5;28;01mraise\u001b[39;00m \u001b[38;5;167;01mValueError\u001b[39;00m(\u001b[38;5;124m\"\u001b[39m\u001b[38;5;132;01m{0}\u001b[39;00m\u001b[38;5;124m format is not supported\u001b[39m\u001b[38;5;124m\"\u001b[39m\u001b[38;5;241m.\u001b[39mformat(y_type))\n\u001b[0;32m     74\u001b[0m \u001b[38;5;28;01mif\u001b[39;00m y_type \u001b[38;5;241m==\u001b[39m \u001b[38;5;124m\"\u001b[39m\u001b[38;5;124mbinary\u001b[39m\u001b[38;5;124m\"\u001b[39m:\n\u001b[0;32m     75\u001b[0m     \u001b[38;5;28;01mreturn\u001b[39;00m binary_metric(y_true, y_score, sample_weight\u001b[38;5;241m=\u001b[39msample_weight)\n",
      "\u001b[1;31mValueError\u001b[0m: continuous format is not supported"
     ]
    }
   ],
   "source": [
    "y_test_xyz = final['xyz_vaccine_label'] # True labels for XYZ vaccine\n",
    "y_test_seasonal = final['seasonal_vaccine_label']  # True labels for seasonal vaccine\n",
    "\n",
    "# Calculate ROC AUC scores\n",
    "roc_auc_xyz = roc_auc_score(y_test_xyz, Y_xyz_vaccine)\n",
    "roc_auc_seasonal = roc_auc_score(y_test_seasonal, Y_sea_vaccine)"
   ]
  },
  {
   "cell_type": "code",
   "execution_count": null,
   "id": "63c39418-2d59-44a7-9fff-9075c6760fc5",
   "metadata": {},
   "outputs": [],
   "source": []
  }
 ],
 "metadata": {
  "kernelspec": {
   "display_name": "Python 3 (ipykernel)",
   "language": "python",
   "name": "python3"
  },
  "language_info": {
   "codemirror_mode": {
    "name": "ipython",
    "version": 3
   },
   "file_extension": ".py",
   "mimetype": "text/x-python",
   "name": "python",
   "nbconvert_exporter": "python",
   "pygments_lexer": "ipython3",
   "version": "3.11.7"
  }
 },
 "nbformat": 4,
 "nbformat_minor": 5
}
